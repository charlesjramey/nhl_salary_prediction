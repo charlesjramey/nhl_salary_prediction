{
 "cells": [
  {
   "cell_type": "markdown",
   "id": "a7a73bfa-6f77-4c06-a275-9ab8c592df19",
   "metadata": {},
   "source": [
    "# Capstone Project: Predicting NHL Player Salary\n",
    "\n",
    "## Part III - Modeling\n",
    "\n",
    "Author: Charles Ramey\n",
    "\n",
    "Date: 05/15/2023\n",
    "\n",
    "---"
   ]
  },
  {
   "cell_type": "markdown",
   "id": "ef7969e0-f09a-4150-9895-4106f59694de",
   "metadata": {},
   "source": [
    "#### Notebook Links\n",
    "\n",
    "Part I - Project Intro & Data Cleaning\n",
    "- [`Part-1_setup-and-cleaning.ipynb`](../code/Part-1_setup-and-cleaning.ipynb)\n",
    "\n",
    "Part II - Exploratory Data Analysis (EDA)\n",
    "- [`Part-2_eda.ipynb`](../code/Part-2_eda.ipynb)\n",
    "\n",
    "Part III - Modeling\n",
    "- [`Part-3.1_modeling-forwards.ipynb`](../code/Part-3.1_modeling-forwards.ipynb)\n",
    "- [`Part-3.3_modeling-goalies.ipynb`](../code/Part-3.3_modeling-goalies.ipynb)\n",
    "\n",
    "Part IV - Conclusion, Recommendations, and Sources\n",
    "- [`Part-4_conclusion-and-recommendations.ipynb`](../code/Part-4_conclusion-and-recommendations.ipynb)"
   ]
  },
  {
   "cell_type": "markdown",
   "id": "0e1db3b3-860b-4947-ad16-04097ac5d4eb",
   "metadata": {},
   "source": [
    "### Contents\n",
    "\n",
    "- [Data Import and Preprocessing](#Data-Import-and-Cleaning)\n",
    "- [Modeling](#Modeling)"
   ]
  },
  {
   "cell_type": "markdown",
   "id": "fcc3a5b2-62c9-4972-a30f-198c8f48ad2c",
   "metadata": {},
   "source": [
    "### Library Imports"
   ]
  },
  {
   "cell_type": "code",
   "execution_count": 1,
   "id": "964855c1-528c-4270-8479-fa022f13211d",
   "metadata": {
    "tags": []
   },
   "outputs": [],
   "source": [
    "import numpy as np\n",
    "import pandas as pd\n",
    "\n",
    "from sklearn.preprocessing import StandardScaler\n",
    "from sklearn.linear_model import LinearRegression\n",
    "from sklearn.tree import DecisionTreeRegressor\n",
    "from sklearn.ensemble import RandomForestRegressor, ExtraTreesRegressor, AdaBoostRegressor\n",
    "import xgboost as xg\n",
    "from sklearn.decomposition import PCA\n",
    "from sklearn.pipeline import Pipeline\n",
    "from sklearn.model_selection import cross_val_predict, GridSearchCV\n",
    "\n",
    "from sklearn.metrics import mean_squared_error\n",
    "import pickle"
   ]
  },
  {
   "cell_type": "markdown",
   "id": "4eb4c1c2-54bc-48c9-8933-fb2f72f9f944",
   "metadata": {},
   "source": [
    "## Data Import and Preprocessing"
   ]
  },
  {
   "cell_type": "markdown",
   "id": "9995dd3b-f56d-4c9b-acbd-84bcc09f344d",
   "metadata": {},
   "source": [
    "### Data Import"
   ]
  },
  {
   "cell_type": "code",
   "execution_count": 2,
   "id": "1689a3fd-c081-4554-a9bb-98b4b6ac1e1f",
   "metadata": {},
   "outputs": [],
   "source": [
    "defense = pd.read_csv('../data/defense_cleaned.csv')"
   ]
  },
  {
   "cell_type": "code",
   "execution_count": 3,
   "id": "31595da6-1b1a-4700-a6e9-59257778e4da",
   "metadata": {
    "tags": []
   },
   "outputs": [
    {
     "data": {
      "text/html": [
       "<div>\n",
       "<style scoped>\n",
       "    .dataframe tbody tr th:only-of-type {\n",
       "        vertical-align: middle;\n",
       "    }\n",
       "\n",
       "    .dataframe tbody tr th {\n",
       "        vertical-align: top;\n",
       "    }\n",
       "\n",
       "    .dataframe thead th {\n",
       "        text-align: right;\n",
       "    }\n",
       "</style>\n",
       "<table border=\"1\" class=\"dataframe\">\n",
       "  <thead>\n",
       "    <tr style=\"text-align: right;\">\n",
       "      <th></th>\n",
       "      <th>player</th>\n",
       "      <th>pos</th>\n",
       "      <th>contract_aav</th>\n",
       "      <th>season</th>\n",
       "      <th>pct_change</th>\n",
       "      <th>upper_limit</th>\n",
       "      <th>lower_limit</th>\n",
       "      <th>min_salary</th>\n",
       "      <th>team</th>\n",
       "      <th>games_played</th>\n",
       "      <th>...</th>\n",
       "      <th>xgoals_on_rebounds_shots</th>\n",
       "      <th>share_of_xgoals_from_rebounds_shots</th>\n",
       "      <th>xgoals_from_non_rebounds</th>\n",
       "      <th>xgoals_of_expected_rebounds</th>\n",
       "      <th>created_xgoals</th>\n",
       "      <th>created_xgoals_minus_actual_xgoals</th>\n",
       "      <th>shooting_talent_above_average</th>\n",
       "      <th>shooting_talent_adjusted_expected_goals</th>\n",
       "      <th>goals_above_shooting_talent</th>\n",
       "      <th>final_standing</th>\n",
       "    </tr>\n",
       "  </thead>\n",
       "  <tbody>\n",
       "    <tr>\n",
       "      <th>0</th>\n",
       "      <td>Drew Doughty</td>\n",
       "      <td>D</td>\n",
       "      <td>7000000</td>\n",
       "      <td>2010-11</td>\n",
       "      <td>0.0825</td>\n",
       "      <td>64300000</td>\n",
       "      <td>48300000</td>\n",
       "      <td>525000</td>\n",
       "      <td>LAK</td>\n",
       "      <td>76.0</td>\n",
       "      <td>...</td>\n",
       "      <td>0.1</td>\n",
       "      <td>0.005</td>\n",
       "      <td>9.4</td>\n",
       "      <td>2.3</td>\n",
       "      <td>11.6</td>\n",
       "      <td>2.2</td>\n",
       "      <td>0.136</td>\n",
       "      <td>10.7</td>\n",
       "      <td>0.3</td>\n",
       "      <td>12.0</td>\n",
       "    </tr>\n",
       "    <tr>\n",
       "      <th>1</th>\n",
       "      <td>Chris Campoli</td>\n",
       "      <td>D</td>\n",
       "      <td>1750000</td>\n",
       "      <td>2010-11</td>\n",
       "      <td>0.0825</td>\n",
       "      <td>64300000</td>\n",
       "      <td>48300000</td>\n",
       "      <td>525000</td>\n",
       "      <td>CHI</td>\n",
       "      <td>77.0</td>\n",
       "      <td>...</td>\n",
       "      <td>0.4</td>\n",
       "      <td>0.097</td>\n",
       "      <td>3.5</td>\n",
       "      <td>1.0</td>\n",
       "      <td>4.4</td>\n",
       "      <td>0.6</td>\n",
       "      <td>0.118</td>\n",
       "      <td>4.3</td>\n",
       "      <td>-0.3</td>\n",
       "      <td>13.0</td>\n",
       "    </tr>\n",
       "  </tbody>\n",
       "</table>\n",
       "<p>2 rows × 84 columns</p>\n",
       "</div>"
      ],
      "text/plain": [
       "          player pos  contract_aav   season  pct_change  upper_limit   \n",
       "0   Drew Doughty   D       7000000  2010-11      0.0825     64300000  \\\n",
       "1  Chris Campoli   D       1750000  2010-11      0.0825     64300000   \n",
       "\n",
       "   lower_limit  min_salary team  games_played  ...  xgoals_on_rebounds_shots   \n",
       "0     48300000      525000  LAK          76.0  ...                       0.1  \\\n",
       "1     48300000      525000  CHI          77.0  ...                       0.4   \n",
       "\n",
       "   share_of_xgoals_from_rebounds_shots  xgoals_from_non_rebounds   \n",
       "0                                0.005                       9.4  \\\n",
       "1                                0.097                       3.5   \n",
       "\n",
       "   xgoals_of_expected_rebounds  created_xgoals   \n",
       "0                          2.3            11.6  \\\n",
       "1                          1.0             4.4   \n",
       "\n",
       "   created_xgoals_minus_actual_xgoals  shooting_talent_above_average   \n",
       "0                                 2.2                          0.136  \\\n",
       "1                                 0.6                          0.118   \n",
       "\n",
       "   shooting_talent_adjusted_expected_goals  goals_above_shooting_talent   \n",
       "0                                     10.7                          0.3  \\\n",
       "1                                      4.3                         -0.3   \n",
       "\n",
       "   final_standing  \n",
       "0            12.0  \n",
       "1            13.0  \n",
       "\n",
       "[2 rows x 84 columns]"
      ]
     },
     "execution_count": 3,
     "metadata": {},
     "output_type": "execute_result"
    }
   ],
   "source": [
    "defense.head(2)"
   ]
  },
  {
   "cell_type": "markdown",
   "id": "e0bdeccc-caaf-4ad0-ac03-169ff88d2450",
   "metadata": {},
   "source": [
    "### Preprocessing"
   ]
  },
  {
   "cell_type": "markdown",
   "id": "f9614011-8968-4ca0-8784-493b04fe5100",
   "metadata": {},
   "source": [
    "As with our forwards data, we need to reorder the columns to make the training data congruous with the 2022-23 data for use in the web app."
   ]
  },
  {
   "cell_type": "code",
   "execution_count": 4,
   "id": "a55e3524-f4e6-4f58-8dbe-7fb75b5699a6",
   "metadata": {
    "tags": []
   },
   "outputs": [],
   "source": [
    "ordered_columns = sorted(defense.columns)\n",
    "defense = defense.reindex(columns=ordered_columns)"
   ]
  },
  {
   "cell_type": "code",
   "execution_count": 5,
   "id": "4b6042b9-09ec-49c2-8c57-c2804d7af0ec",
   "metadata": {
    "tags": []
   },
   "outputs": [
    {
     "data": {
      "text/html": [
       "<div>\n",
       "<style scoped>\n",
       "    .dataframe tbody tr th:only-of-type {\n",
       "        vertical-align: middle;\n",
       "    }\n",
       "\n",
       "    .dataframe tbody tr th {\n",
       "        vertical-align: top;\n",
       "    }\n",
       "\n",
       "    .dataframe thead th {\n",
       "        text-align: right;\n",
       "    }\n",
       "</style>\n",
       "<table border=\"1\" class=\"dataframe\">\n",
       "  <thead>\n",
       "    <tr style=\"text-align: right;\">\n",
       "      <th></th>\n",
       "      <th>assists</th>\n",
       "      <th>assists_per_60_minutes</th>\n",
       "      <th>contract_aav</th>\n",
       "      <th>created_xgoals</th>\n",
       "      <th>created_xgoals_minus_actual_xgoals</th>\n",
       "      <th>defensive_zone_giveaways</th>\n",
       "      <th>expected_goals</th>\n",
       "      <th>expected_goals_per_60_minutes</th>\n",
       "      <th>expected_pct_of_unblocked_shots_that_missed_net</th>\n",
       "      <th>expected_shooting_pct_on_unblocked_shots</th>\n",
       "      <th>...</th>\n",
       "      <th>shots_on_goal_per_60_minutes</th>\n",
       "      <th>shots_that_missed_net</th>\n",
       "      <th>shots_that_were_blocked</th>\n",
       "      <th>takeaways</th>\n",
       "      <th>team</th>\n",
       "      <th>upper_limit</th>\n",
       "      <th>xgoals_from_non_rebounds</th>\n",
       "      <th>xgoals_of_expected_rebounds</th>\n",
       "      <th>xgoals_on_rebounds_shots</th>\n",
       "      <th>xrebounds_created</th>\n",
       "    </tr>\n",
       "  </thead>\n",
       "  <tbody>\n",
       "    <tr>\n",
       "      <th>0</th>\n",
       "      <td>29.0</td>\n",
       "      <td>0.89</td>\n",
       "      <td>7000000</td>\n",
       "      <td>11.6</td>\n",
       "      <td>2.2</td>\n",
       "      <td>52.0</td>\n",
       "      <td>9.4</td>\n",
       "      <td>0.29</td>\n",
       "      <td>0.318</td>\n",
       "      <td>0.042</td>\n",
       "      <td>...</td>\n",
       "      <td>4.28</td>\n",
       "      <td>75.0</td>\n",
       "      <td>140.0</td>\n",
       "      <td>22.0</td>\n",
       "      <td>LAK</td>\n",
       "      <td>64300000</td>\n",
       "      <td>9.4</td>\n",
       "      <td>2.3</td>\n",
       "      <td>0.1</td>\n",
       "      <td>10.3</td>\n",
       "    </tr>\n",
       "    <tr>\n",
       "      <th>1</th>\n",
       "      <td>17.0</td>\n",
       "      <td>0.69</td>\n",
       "      <td>1750000</td>\n",
       "      <td>4.4</td>\n",
       "      <td>0.6</td>\n",
       "      <td>26.0</td>\n",
       "      <td>3.8</td>\n",
       "      <td>0.16</td>\n",
       "      <td>0.325</td>\n",
       "      <td>0.026</td>\n",
       "      <td>...</td>\n",
       "      <td>3.42</td>\n",
       "      <td>30.0</td>\n",
       "      <td>70.0</td>\n",
       "      <td>19.0</td>\n",
       "      <td>CHI</td>\n",
       "      <td>64300000</td>\n",
       "      <td>3.5</td>\n",
       "      <td>1.0</td>\n",
       "      <td>0.4</td>\n",
       "      <td>4.8</td>\n",
       "    </tr>\n",
       "  </tbody>\n",
       "</table>\n",
       "<p>2 rows × 84 columns</p>\n",
       "</div>"
      ],
      "text/plain": [
       "   assists  assists_per_60_minutes  contract_aav  created_xgoals   \n",
       "0     29.0                    0.89       7000000            11.6  \\\n",
       "1     17.0                    0.69       1750000             4.4   \n",
       "\n",
       "   created_xgoals_minus_actual_xgoals  defensive_zone_giveaways   \n",
       "0                                 2.2                      52.0  \\\n",
       "1                                 0.6                      26.0   \n",
       "\n",
       "   expected_goals  expected_goals_per_60_minutes   \n",
       "0             9.4                           0.29  \\\n",
       "1             3.8                           0.16   \n",
       "\n",
       "   expected_pct_of_unblocked_shots_that_missed_net   \n",
       "0                                            0.318  \\\n",
       "1                                            0.325   \n",
       "\n",
       "   expected_shooting_pct_on_unblocked_shots  ...   \n",
       "0                                     0.042  ...  \\\n",
       "1                                     0.026  ...   \n",
       "\n",
       "   shots_on_goal_per_60_minutes  shots_that_missed_net   \n",
       "0                          4.28                   75.0  \\\n",
       "1                          3.42                   30.0   \n",
       "\n",
       "   shots_that_were_blocked  takeaways  team  upper_limit   \n",
       "0                    140.0       22.0   LAK     64300000  \\\n",
       "1                     70.0       19.0   CHI     64300000   \n",
       "\n",
       "   xgoals_from_non_rebounds  xgoals_of_expected_rebounds   \n",
       "0                       9.4                          2.3  \\\n",
       "1                       3.5                          1.0   \n",
       "\n",
       "   xgoals_on_rebounds_shots  xrebounds_created  \n",
       "0                       0.1               10.3  \n",
       "1                       0.4                4.8  \n",
       "\n",
       "[2 rows x 84 columns]"
      ]
     },
     "execution_count": 5,
     "metadata": {},
     "output_type": "execute_result"
    }
   ],
   "source": [
    "defense.head(2)"
   ]
  },
  {
   "cell_type": "markdown",
   "id": "179b54da-407c-46d1-aa1d-bcdee6a8359d",
   "metadata": {},
   "source": [
    "Here we split the train and test data, training on the 2010-11 to 2019-20 seasons and testing on the 2020-21 and 2021-22 seasons."
   ]
  },
  {
   "cell_type": "code",
   "execution_count": 6,
   "id": "40a67741-d975-4f66-9650-2822b9de261b",
   "metadata": {},
   "outputs": [],
   "source": [
    "defense_train = defense[~defense['season'].isin(['2020-21', '2021-22'])]\n",
    "defense_test = defense[defense['season'].isin(['2020-21', '2021-22'])]"
   ]
  },
  {
   "cell_type": "markdown",
   "id": "97e8d7b3-58ec-4511-8faf-86f4a2c433a8",
   "metadata": {
    "tags": []
   },
   "source": [
    "---\n",
    "## Modeling"
   ]
  },
  {
   "cell_type": "code",
   "execution_count": 7,
   "id": "defe7e99-c114-4d7a-bae2-859cbbaa8496",
   "metadata": {},
   "outputs": [],
   "source": [
    "X_train = defense_train.drop(columns=['player', 'pos', 'team', 'season', 'contract_aav'], axis=1)\n",
    "y_train = defense_train['contract_aav']\n",
    "\n",
    "X_test = defense_test.drop(columns=['player', 'pos', 'team', 'season', 'contract_aav'], axis=1)\n",
    "y_test = defense_test['contract_aav']"
   ]
  },
  {
   "cell_type": "code",
   "execution_count": 8,
   "id": "25cdf156-3811-463c-8dcc-badf9f8fc590",
   "metadata": {
    "tags": []
   },
   "outputs": [],
   "source": [
    "ss = StandardScaler()\n",
    "\n",
    "Xs_train = ss.fit_transform(X_train)\n",
    "Xs_test = ss.transform(X_test)"
   ]
  },
  {
   "cell_type": "code",
   "execution_count": 9,
   "id": "083a30ab-5f9d-4e7b-818f-9ebde384ab06",
   "metadata": {
    "tags": []
   },
   "outputs": [
    {
     "data": {
      "text/plain": [
       "(0.7450609102059134, 0.6019537531910315)"
      ]
     },
     "execution_count": 9,
     "metadata": {},
     "output_type": "execute_result"
    }
   ],
   "source": [
    "# Initiate the model\n",
    "lr = LinearRegression()\n",
    "\n",
    "# Fit the model to the training data\n",
    "lr.fit(Xs_train, y_train)\n",
    "\n",
    "# Score the model's performance one the train and test data\n",
    "lr.score(Xs_train, y_train), lr.score(Xs_test, y_test)"
   ]
  },
  {
   "cell_type": "code",
   "execution_count": 10,
   "id": "91b5c9fa-9c1a-439a-aa9c-047f63b50de9",
   "metadata": {
    "tags": []
   },
   "outputs": [
    {
     "data": {
      "text/html": [
       "<style>#sk-container-id-1 {color: black;background-color: white;}#sk-container-id-1 pre{padding: 0;}#sk-container-id-1 div.sk-toggleable {background-color: white;}#sk-container-id-1 label.sk-toggleable__label {cursor: pointer;display: block;width: 100%;margin-bottom: 0;padding: 0.3em;box-sizing: border-box;text-align: center;}#sk-container-id-1 label.sk-toggleable__label-arrow:before {content: \"▸\";float: left;margin-right: 0.25em;color: #696969;}#sk-container-id-1 label.sk-toggleable__label-arrow:hover:before {color: black;}#sk-container-id-1 div.sk-estimator:hover label.sk-toggleable__label-arrow:before {color: black;}#sk-container-id-1 div.sk-toggleable__content {max-height: 0;max-width: 0;overflow: hidden;text-align: left;background-color: #f0f8ff;}#sk-container-id-1 div.sk-toggleable__content pre {margin: 0.2em;color: black;border-radius: 0.25em;background-color: #f0f8ff;}#sk-container-id-1 input.sk-toggleable__control:checked~div.sk-toggleable__content {max-height: 200px;max-width: 100%;overflow: auto;}#sk-container-id-1 input.sk-toggleable__control:checked~label.sk-toggleable__label-arrow:before {content: \"▾\";}#sk-container-id-1 div.sk-estimator input.sk-toggleable__control:checked~label.sk-toggleable__label {background-color: #d4ebff;}#sk-container-id-1 div.sk-label input.sk-toggleable__control:checked~label.sk-toggleable__label {background-color: #d4ebff;}#sk-container-id-1 input.sk-hidden--visually {border: 0;clip: rect(1px 1px 1px 1px);clip: rect(1px, 1px, 1px, 1px);height: 1px;margin: -1px;overflow: hidden;padding: 0;position: absolute;width: 1px;}#sk-container-id-1 div.sk-estimator {font-family: monospace;background-color: #f0f8ff;border: 1px dotted black;border-radius: 0.25em;box-sizing: border-box;margin-bottom: 0.5em;}#sk-container-id-1 div.sk-estimator:hover {background-color: #d4ebff;}#sk-container-id-1 div.sk-parallel-item::after {content: \"\";width: 100%;border-bottom: 1px solid gray;flex-grow: 1;}#sk-container-id-1 div.sk-label:hover label.sk-toggleable__label {background-color: #d4ebff;}#sk-container-id-1 div.sk-serial::before {content: \"\";position: absolute;border-left: 1px solid gray;box-sizing: border-box;top: 0;bottom: 0;left: 50%;z-index: 0;}#sk-container-id-1 div.sk-serial {display: flex;flex-direction: column;align-items: center;background-color: white;padding-right: 0.2em;padding-left: 0.2em;position: relative;}#sk-container-id-1 div.sk-item {position: relative;z-index: 1;}#sk-container-id-1 div.sk-parallel {display: flex;align-items: stretch;justify-content: center;background-color: white;position: relative;}#sk-container-id-1 div.sk-item::before, #sk-container-id-1 div.sk-parallel-item::before {content: \"\";position: absolute;border-left: 1px solid gray;box-sizing: border-box;top: 0;bottom: 0;left: 50%;z-index: -1;}#sk-container-id-1 div.sk-parallel-item {display: flex;flex-direction: column;z-index: 1;position: relative;background-color: white;}#sk-container-id-1 div.sk-parallel-item:first-child::after {align-self: flex-end;width: 50%;}#sk-container-id-1 div.sk-parallel-item:last-child::after {align-self: flex-start;width: 50%;}#sk-container-id-1 div.sk-parallel-item:only-child::after {width: 0;}#sk-container-id-1 div.sk-dashed-wrapped {border: 1px dashed gray;margin: 0 0.4em 0.5em 0.4em;box-sizing: border-box;padding-bottom: 0.4em;background-color: white;}#sk-container-id-1 div.sk-label label {font-family: monospace;font-weight: bold;display: inline-block;line-height: 1.2em;}#sk-container-id-1 div.sk-label-container {text-align: center;}#sk-container-id-1 div.sk-container {/* jupyter's `normalize.less` sets `[hidden] { display: none; }` but bootstrap.min.css set `[hidden] { display: none !important; }` so we also need the `!important` here to be able to override the default hidden behavior on the sphinx rendered scikit-learn.org. See: https://github.com/scikit-learn/scikit-learn/issues/21755 */display: inline-block !important;position: relative;}#sk-container-id-1 div.sk-text-repr-fallback {display: none;}</style><div id=\"sk-container-id-1\" class=\"sk-top-container\"><div class=\"sk-text-repr-fallback\"><pre>GridSearchCV(cv=5,\n",
       "             estimator=Pipeline(steps=[(&#x27;ss&#x27;, StandardScaler()), (&#x27;pc&#x27;, PCA()),\n",
       "                                       (&#x27;lr&#x27;, LinearRegression())]),\n",
       "             n_jobs=-1,\n",
       "             param_grid={&#x27;pc__n_components&#x27;: array([ 1,  2,  3,  4,  5,  6,  7,  8,  9, 10, 11, 12, 13, 14, 15, 16, 17,\n",
       "       18, 19, 20, 21, 22, 23, 24, 25, 26, 27, 28, 29, 30, 31, 32, 33, 34,\n",
       "       35, 36, 37, 38, 39])})</pre><b>In a Jupyter environment, please rerun this cell to show the HTML representation or trust the notebook. <br />On GitHub, the HTML representation is unable to render, please try loading this page with nbviewer.org.</b></div><div class=\"sk-container\" hidden><div class=\"sk-item sk-dashed-wrapped\"><div class=\"sk-label-container\"><div class=\"sk-label sk-toggleable\"><input class=\"sk-toggleable__control sk-hidden--visually\" id=\"sk-estimator-id-1\" type=\"checkbox\" ><label for=\"sk-estimator-id-1\" class=\"sk-toggleable__label sk-toggleable__label-arrow\">GridSearchCV</label><div class=\"sk-toggleable__content\"><pre>GridSearchCV(cv=5,\n",
       "             estimator=Pipeline(steps=[(&#x27;ss&#x27;, StandardScaler()), (&#x27;pc&#x27;, PCA()),\n",
       "                                       (&#x27;lr&#x27;, LinearRegression())]),\n",
       "             n_jobs=-1,\n",
       "             param_grid={&#x27;pc__n_components&#x27;: array([ 1,  2,  3,  4,  5,  6,  7,  8,  9, 10, 11, 12, 13, 14, 15, 16, 17,\n",
       "       18, 19, 20, 21, 22, 23, 24, 25, 26, 27, 28, 29, 30, 31, 32, 33, 34,\n",
       "       35, 36, 37, 38, 39])})</pre></div></div></div><div class=\"sk-parallel\"><div class=\"sk-parallel-item\"><div class=\"sk-item\"><div class=\"sk-label-container\"><div class=\"sk-label sk-toggleable\"><input class=\"sk-toggleable__control sk-hidden--visually\" id=\"sk-estimator-id-2\" type=\"checkbox\" ><label for=\"sk-estimator-id-2\" class=\"sk-toggleable__label sk-toggleable__label-arrow\">estimator: Pipeline</label><div class=\"sk-toggleable__content\"><pre>Pipeline(steps=[(&#x27;ss&#x27;, StandardScaler()), (&#x27;pc&#x27;, PCA()),\n",
       "                (&#x27;lr&#x27;, LinearRegression())])</pre></div></div></div><div class=\"sk-serial\"><div class=\"sk-item\"><div class=\"sk-serial\"><div class=\"sk-item\"><div class=\"sk-estimator sk-toggleable\"><input class=\"sk-toggleable__control sk-hidden--visually\" id=\"sk-estimator-id-3\" type=\"checkbox\" ><label for=\"sk-estimator-id-3\" class=\"sk-toggleable__label sk-toggleable__label-arrow\">StandardScaler</label><div class=\"sk-toggleable__content\"><pre>StandardScaler()</pre></div></div></div><div class=\"sk-item\"><div class=\"sk-estimator sk-toggleable\"><input class=\"sk-toggleable__control sk-hidden--visually\" id=\"sk-estimator-id-4\" type=\"checkbox\" ><label for=\"sk-estimator-id-4\" class=\"sk-toggleable__label sk-toggleable__label-arrow\">PCA</label><div class=\"sk-toggleable__content\"><pre>PCA()</pre></div></div></div><div class=\"sk-item\"><div class=\"sk-estimator sk-toggleable\"><input class=\"sk-toggleable__control sk-hidden--visually\" id=\"sk-estimator-id-5\" type=\"checkbox\" ><label for=\"sk-estimator-id-5\" class=\"sk-toggleable__label sk-toggleable__label-arrow\">LinearRegression</label><div class=\"sk-toggleable__content\"><pre>LinearRegression()</pre></div></div></div></div></div></div></div></div></div></div></div></div>"
      ],
      "text/plain": [
       "GridSearchCV(cv=5,\n",
       "             estimator=Pipeline(steps=[('ss', StandardScaler()), ('pc', PCA()),\n",
       "                                       ('lr', LinearRegression())]),\n",
       "             n_jobs=-1,\n",
       "             param_grid={'pc__n_components': array([ 1,  2,  3,  4,  5,  6,  7,  8,  9, 10, 11, 12, 13, 14, 15, 16, 17,\n",
       "       18, 19, 20, 21, 22, 23, 24, 25, 26, 27, 28, 29, 30, 31, 32, 33, 34,\n",
       "       35, 36, 37, 38, 39])})"
      ]
     },
     "execution_count": 10,
     "metadata": {},
     "output_type": "execute_result"
    }
   ],
   "source": [
    "# Define the pipeline\n",
    "pipe = Pipeline([\n",
    "    ('ss', StandardScaler()),\n",
    "    ('pc', PCA()),\n",
    "    ('lr', LinearRegression())\n",
    "])\n",
    "\n",
    "# Define a parameter grid to search over\n",
    "pgrid = {'pc__n_components' : np.arange(1, 40)}\n",
    "\n",
    "# Instantiate the gridsearch\n",
    "gs = GridSearchCV(pipe, pgrid, cv = 5, n_jobs=-1)\n",
    "\n",
    "# Fit the model with the best parameters\n",
    "gs.fit(X_train, y_train)"
   ]
  },
  {
   "cell_type": "code",
   "execution_count": 11,
   "id": "4e70da81-b2a2-43f0-9ba4-207729298469",
   "metadata": {
    "tags": []
   },
   "outputs": [
    {
     "data": {
      "text/plain": [
       "(0.7214790154639533, 0.5630143787267721)"
      ]
     },
     "execution_count": 11,
     "metadata": {},
     "output_type": "execute_result"
    }
   ],
   "source": [
    "# Score the model's performance one the train and test data\n",
    "gs.score(X_train, y_train), gs.score(X_test, y_test)"
   ]
  },
  {
   "cell_type": "code",
   "execution_count": 12,
   "id": "bc5c87d2-fff3-4b76-965e-4fbdc30fc6d5",
   "metadata": {
    "tags": []
   },
   "outputs": [],
   "source": [
    "# Instantiation of models to test\n",
    "\n",
    "# Logisitic Regression\n",
    "lr = LinearRegression()\n",
    "\n",
    "# Decision Tree Regressor\n",
    "dt = DecisionTreeRegressor()\n",
    "\n",
    "# Random Forest Regressor\n",
    "rf = RandomForestRegressor()\n",
    "\n",
    "# Extra Trees Regressor\n",
    "et = ExtraTreesRegressor()\n",
    "\n",
    "# Adaptive Boost Regressor\n",
    "ada = AdaBoostRegressor()\n",
    "\n",
    "# Extreme Gradient Boost Regressor\n",
    "xgb = xg.XGBRegressor()"
   ]
  },
  {
   "cell_type": "code",
   "execution_count": 13,
   "id": "e1e3e331-2f8e-462d-bd8d-5b49da085e64",
   "metadata": {
    "tags": []
   },
   "outputs": [],
   "source": [
    "lr_params = {\n",
    "    'pc__n_components' : np.arange(1, 40)\n",
    "}\n",
    "\n",
    "dt_params = {\n",
    "    'pc__n_components' : np.arange(1, 40),\n",
    "    'dt__max_depth': [3,5],\n",
    "    'dt__min_samples_split': [2,5,10],\n",
    "    'dt__random_state': [42]}\n",
    "\n",
    "rf_params = {\n",
    "    'pc__n_components' : np.arange(1, 40),\n",
    "    'rf__max_depth': [3,5],\n",
    "    'rf__min_samples_split': [2,5,10],\n",
    "    'rf__random_state': [42]}\n",
    "    \n",
    "et_params = {\n",
    "    'pc__n_components' : np.arange(1, 40),\n",
    "    'et__n_estimators': [50,100],\n",
    "    'et__max_depth': [3,5],\n",
    "    'et__min_samples_split': [2,5,10],\n",
    "    'et__random_state': [42]}\n",
    "\n",
    "ada_params = {\n",
    "    'pc__n_components' : np.arange(1, 40),\n",
    "    'ada__n_estimators': [50,100],\n",
    "    'ada__learning_rate': [0.3,0.6],\n",
    "    'ada__random_state': [42]}\n",
    "\n",
    "xgb_params = {\n",
    "    'pc__n_components' : np.arange(1, 40),\n",
    "    'xgb__n_estimators': [50,100],\n",
    "    'xgb__learning_rate': [0.3,0.6],\n",
    "    'xgb__random_state': [42]}"
   ]
  },
  {
   "cell_type": "code",
   "execution_count": 14,
   "id": "156ba871-4f60-4ceb-8a97-b4093b6e500e",
   "metadata": {
    "tags": []
   },
   "outputs": [],
   "source": [
    "'''\n",
    "Code adapted from Devin Faye, General Assembly\n",
    "'''\n",
    "def evaluation(X_train, y_train, X_test, y_test, model, model_name:str,\n",
    "               model_params, scores_df=None):\n",
    "    # If this is the first call of this function and a previous dataframe of scores\n",
    "    # is not passed in the parameters, define a new dataframe to store model metrics\n",
    "    if scores_df is None:\n",
    "        scores_df = pd.DataFrame(columns = ['train_score', 'test_score', 'difference', 'rmse ($)'])\n",
    "\n",
    "    # Create a pipeline that will scale the data, perform a PCA, and feed it into the selected model\n",
    "    pipe = Pipeline([\n",
    "        ('ss', StandardScaler()),\n",
    "        ('pc', PCA(random_state=42)),\n",
    "        (model_name, model)])\n",
    "    \n",
    "    # Instantiate a grid search to pass the pipeline into with hyperparameters to search over\n",
    "    gs = GridSearchCV(\n",
    "        pipe,\n",
    "        model_params,\n",
    "        cv = 5, n_jobs=-1)\n",
    "    \n",
    "    # Fit the model to the training data\n",
    "    gs.fit(X_train, y_train)\n",
    "   \n",
    "    # Print out the best hyperparameters for this model\n",
    "    print(f\"The best parameters for the {model_name} model are: {gs.best_params_}\")\n",
    "    \n",
    "    # Store the model's predicted values\n",
    "    preds = gs.predict(X_test)\n",
    "    \n",
    "    # Score the model's performance on the training and testing data\n",
    "    train_score = round(gs.score(X_train, y_train), 2)\n",
    "    test_score = round(gs.score(X_test, y_test), 2)\n",
    "    difference = round(train_score - test_score, 2)\n",
    "    rmse = int(mean_squared_error(y_test, preds, squared=False))\n",
    "    \n",
    "    # Store the scores in the dataframe\n",
    "    scores_df.loc[model_name,:] = [train_score, test_score, difference, rmse]\n",
    "    # Make sure the scores are being stored as a dataframe\n",
    "    scores_df = pd.DataFrame(scores_df)\n",
    "    \n",
    "    print('')\n",
    "    print(scores_df)\n",
    "    \n",
    "    return scores_df"
   ]
  },
  {
   "cell_type": "code",
   "execution_count": 15,
   "id": "ed7135b2-959a-4db9-9b2c-14b1a1102652",
   "metadata": {
    "tags": []
   },
   "outputs": [
    {
     "name": "stdout",
     "output_type": "stream",
     "text": [
      "The best parameters for the lr model are: {'pc__n_components': 35}\n",
      "\n",
      "   train_score test_score difference rmse ($)\n",
      "lr        0.72       0.56       0.16  1628068\n"
     ]
    }
   ],
   "source": [
    "scores = evaluation(X_train, y_train, X_test, y_test, lr, 'lr',\n",
    "                    lr_params)"
   ]
  },
  {
   "cell_type": "code",
   "execution_count": 16,
   "id": "a8476a65-0bf5-4b3d-8ef7-4a09b2df8bc4",
   "metadata": {
    "tags": []
   },
   "outputs": [
    {
     "name": "stdout",
     "output_type": "stream",
     "text": [
      "The best parameters for the dt model are: {'dt__max_depth': 3, 'dt__min_samples_split': 2, 'dt__random_state': 42, 'pc__n_components': 2}\n",
      "\n",
      "   train_score test_score difference rmse ($)\n",
      "lr        0.72       0.56       0.16  1628068\n",
      "dt        0.66        0.3       0.36  2060087\n"
     ]
    }
   ],
   "source": [
    "scores = evaluation(X_train, y_train, X_test, y_test, dt, 'dt',\n",
    "                    dt_params, scores_df=scores)"
   ]
  },
  {
   "cell_type": "code",
   "execution_count": 17,
   "id": "d2308950-b656-4f09-b83a-0dfcd15316c9",
   "metadata": {
    "tags": []
   },
   "outputs": [
    {
     "name": "stdout",
     "output_type": "stream",
     "text": [
      "The best parameters for the rf model are: {'pc__n_components': 9, 'rf__max_depth': 5, 'rf__min_samples_split': 2, 'rf__random_state': 42}\n",
      "\n",
      "   train_score test_score difference rmse ($)\n",
      "lr        0.72       0.56       0.16  1628068\n",
      "dt        0.66        0.3       0.36  2060087\n",
      "rf        0.84       0.33       0.51  2011468\n"
     ]
    }
   ],
   "source": [
    "scores = evaluation(X_train, y_train, X_test, y_test, rf, 'rf',\n",
    "                    rf_params, scores_df=scores)"
   ]
  },
  {
   "cell_type": "code",
   "execution_count": 18,
   "id": "29fe3313-d3af-4dd9-9ad2-3c94f839cf49",
   "metadata": {
    "tags": []
   },
   "outputs": [
    {
     "name": "stdout",
     "output_type": "stream",
     "text": [
      "The best parameters for the et model are: {'et__max_depth': 5, 'et__min_samples_split': 2, 'et__n_estimators': 100, 'et__random_state': 42, 'pc__n_components': 20}\n",
      "\n",
      "   train_score test_score difference rmse ($)\n",
      "lr        0.72       0.56       0.16  1628068\n",
      "dt        0.66        0.3       0.36  2060087\n",
      "rf        0.84       0.33       0.51  2011468\n",
      "et        0.73       0.39       0.34  1924557\n"
     ]
    }
   ],
   "source": [
    "scores = evaluation(X_train, y_train, X_test, y_test, et, 'et',\n",
    "                    et_params, scores_df=scores)"
   ]
  },
  {
   "cell_type": "code",
   "execution_count": 19,
   "id": "908ddfa2-7a83-4191-bdbb-6aa7ee210af0",
   "metadata": {
    "tags": []
   },
   "outputs": [
    {
     "name": "stdout",
     "output_type": "stream",
     "text": [
      "The best parameters for the ada model are: {'ada__learning_rate': 0.3, 'ada__n_estimators': 50, 'ada__random_state': 42, 'pc__n_components': 9}\n",
      "\n",
      "    train_score test_score difference rmse ($)\n",
      "lr         0.72       0.56       0.16  1628068\n",
      "dt         0.66        0.3       0.36  2060087\n",
      "rf         0.84       0.33       0.51  2011468\n",
      "et         0.73       0.39       0.34  1924557\n",
      "ada        0.72       0.36       0.36  1969138\n"
     ]
    }
   ],
   "source": [
    "scores = evaluation(X_train, y_train, X_test, y_test, ada, 'ada',\n",
    "                    ada_params, scores_df=scores)"
   ]
  },
  {
   "cell_type": "code",
   "execution_count": 20,
   "id": "2464ede4-3e88-4733-ad3b-052c0cebb1eb",
   "metadata": {
    "tags": []
   },
   "outputs": [
    {
     "name": "stdout",
     "output_type": "stream",
     "text": [
      "The best parameters for the xgb model are: {'pc__n_components': 15, 'xgb__learning_rate': 0.3, 'xgb__n_estimators': 50, 'xgb__random_state': 42}\n",
      "\n",
      "    train_score test_score difference rmse ($)\n",
      "lr         0.72       0.56       0.16  1628068\n",
      "dt         0.66        0.3       0.36  2060087\n",
      "rf         0.84       0.33       0.51  2011468\n",
      "et         0.73       0.39       0.34  1924557\n",
      "ada        0.72       0.36       0.36  1969138\n",
      "xgb         1.0        0.3        0.7  2061759\n"
     ]
    }
   ],
   "source": [
    "scores = evaluation(X_train, y_train, X_test, y_test, xgb, 'xgb',\n",
    "                    xgb_params, scores_df=scores)"
   ]
  },
  {
   "cell_type": "markdown",
   "id": "c58a0aa4-6d9b-42e1-bbb3-897826a41662",
   "metadata": {},
   "source": [
    "Like the forwards, the linear regression model performed best on the defense data as well. However, the overall performance has declined pretty substantially, and there is a lot more variance with this data. One possible cause is simply that there are fewer defensemen, so the models are trained on fewer data points overall. Unofrtunately, it is likely that this result with be exacerbated for the goalie data, which is an even smaller dataset than either the forwards or defense."
   ]
  },
  {
   "cell_type": "code",
   "execution_count": 21,
   "id": "99e2bf86-310b-4afa-8e2c-bf314b9ec321",
   "metadata": {
    "tags": []
   },
   "outputs": [],
   "source": [
    "lr_pipe = Pipeline([\n",
    "    ('ss', StandardScaler()),\n",
    "    ('pc', PCA(\n",
    "        n_components=36,\n",
    "        random_state=42)),\n",
    "    ('lr', LinearRegression())])"
   ]
  },
  {
   "cell_type": "code",
   "execution_count": 22,
   "id": "c07ceb67-b19e-4313-ac2d-521e0e6a5308",
   "metadata": {
    "tags": []
   },
   "outputs": [
    {
     "data": {
      "text/html": [
       "<style>#sk-container-id-2 {color: black;background-color: white;}#sk-container-id-2 pre{padding: 0;}#sk-container-id-2 div.sk-toggleable {background-color: white;}#sk-container-id-2 label.sk-toggleable__label {cursor: pointer;display: block;width: 100%;margin-bottom: 0;padding: 0.3em;box-sizing: border-box;text-align: center;}#sk-container-id-2 label.sk-toggleable__label-arrow:before {content: \"▸\";float: left;margin-right: 0.25em;color: #696969;}#sk-container-id-2 label.sk-toggleable__label-arrow:hover:before {color: black;}#sk-container-id-2 div.sk-estimator:hover label.sk-toggleable__label-arrow:before {color: black;}#sk-container-id-2 div.sk-toggleable__content {max-height: 0;max-width: 0;overflow: hidden;text-align: left;background-color: #f0f8ff;}#sk-container-id-2 div.sk-toggleable__content pre {margin: 0.2em;color: black;border-radius: 0.25em;background-color: #f0f8ff;}#sk-container-id-2 input.sk-toggleable__control:checked~div.sk-toggleable__content {max-height: 200px;max-width: 100%;overflow: auto;}#sk-container-id-2 input.sk-toggleable__control:checked~label.sk-toggleable__label-arrow:before {content: \"▾\";}#sk-container-id-2 div.sk-estimator input.sk-toggleable__control:checked~label.sk-toggleable__label {background-color: #d4ebff;}#sk-container-id-2 div.sk-label input.sk-toggleable__control:checked~label.sk-toggleable__label {background-color: #d4ebff;}#sk-container-id-2 input.sk-hidden--visually {border: 0;clip: rect(1px 1px 1px 1px);clip: rect(1px, 1px, 1px, 1px);height: 1px;margin: -1px;overflow: hidden;padding: 0;position: absolute;width: 1px;}#sk-container-id-2 div.sk-estimator {font-family: monospace;background-color: #f0f8ff;border: 1px dotted black;border-radius: 0.25em;box-sizing: border-box;margin-bottom: 0.5em;}#sk-container-id-2 div.sk-estimator:hover {background-color: #d4ebff;}#sk-container-id-2 div.sk-parallel-item::after {content: \"\";width: 100%;border-bottom: 1px solid gray;flex-grow: 1;}#sk-container-id-2 div.sk-label:hover label.sk-toggleable__label {background-color: #d4ebff;}#sk-container-id-2 div.sk-serial::before {content: \"\";position: absolute;border-left: 1px solid gray;box-sizing: border-box;top: 0;bottom: 0;left: 50%;z-index: 0;}#sk-container-id-2 div.sk-serial {display: flex;flex-direction: column;align-items: center;background-color: white;padding-right: 0.2em;padding-left: 0.2em;position: relative;}#sk-container-id-2 div.sk-item {position: relative;z-index: 1;}#sk-container-id-2 div.sk-parallel {display: flex;align-items: stretch;justify-content: center;background-color: white;position: relative;}#sk-container-id-2 div.sk-item::before, #sk-container-id-2 div.sk-parallel-item::before {content: \"\";position: absolute;border-left: 1px solid gray;box-sizing: border-box;top: 0;bottom: 0;left: 50%;z-index: -1;}#sk-container-id-2 div.sk-parallel-item {display: flex;flex-direction: column;z-index: 1;position: relative;background-color: white;}#sk-container-id-2 div.sk-parallel-item:first-child::after {align-self: flex-end;width: 50%;}#sk-container-id-2 div.sk-parallel-item:last-child::after {align-self: flex-start;width: 50%;}#sk-container-id-2 div.sk-parallel-item:only-child::after {width: 0;}#sk-container-id-2 div.sk-dashed-wrapped {border: 1px dashed gray;margin: 0 0.4em 0.5em 0.4em;box-sizing: border-box;padding-bottom: 0.4em;background-color: white;}#sk-container-id-2 div.sk-label label {font-family: monospace;font-weight: bold;display: inline-block;line-height: 1.2em;}#sk-container-id-2 div.sk-label-container {text-align: center;}#sk-container-id-2 div.sk-container {/* jupyter's `normalize.less` sets `[hidden] { display: none; }` but bootstrap.min.css set `[hidden] { display: none !important; }` so we also need the `!important` here to be able to override the default hidden behavior on the sphinx rendered scikit-learn.org. See: https://github.com/scikit-learn/scikit-learn/issues/21755 */display: inline-block !important;position: relative;}#sk-container-id-2 div.sk-text-repr-fallback {display: none;}</style><div id=\"sk-container-id-2\" class=\"sk-top-container\"><div class=\"sk-text-repr-fallback\"><pre>Pipeline(steps=[(&#x27;ss&#x27;, StandardScaler()),\n",
       "                (&#x27;pc&#x27;, PCA(n_components=36, random_state=42)),\n",
       "                (&#x27;lr&#x27;, LinearRegression())])</pre><b>In a Jupyter environment, please rerun this cell to show the HTML representation or trust the notebook. <br />On GitHub, the HTML representation is unable to render, please try loading this page with nbviewer.org.</b></div><div class=\"sk-container\" hidden><div class=\"sk-item sk-dashed-wrapped\"><div class=\"sk-label-container\"><div class=\"sk-label sk-toggleable\"><input class=\"sk-toggleable__control sk-hidden--visually\" id=\"sk-estimator-id-6\" type=\"checkbox\" ><label for=\"sk-estimator-id-6\" class=\"sk-toggleable__label sk-toggleable__label-arrow\">Pipeline</label><div class=\"sk-toggleable__content\"><pre>Pipeline(steps=[(&#x27;ss&#x27;, StandardScaler()),\n",
       "                (&#x27;pc&#x27;, PCA(n_components=36, random_state=42)),\n",
       "                (&#x27;lr&#x27;, LinearRegression())])</pre></div></div></div><div class=\"sk-serial\"><div class=\"sk-item\"><div class=\"sk-estimator sk-toggleable\"><input class=\"sk-toggleable__control sk-hidden--visually\" id=\"sk-estimator-id-7\" type=\"checkbox\" ><label for=\"sk-estimator-id-7\" class=\"sk-toggleable__label sk-toggleable__label-arrow\">StandardScaler</label><div class=\"sk-toggleable__content\"><pre>StandardScaler()</pre></div></div></div><div class=\"sk-item\"><div class=\"sk-estimator sk-toggleable\"><input class=\"sk-toggleable__control sk-hidden--visually\" id=\"sk-estimator-id-8\" type=\"checkbox\" ><label for=\"sk-estimator-id-8\" class=\"sk-toggleable__label sk-toggleable__label-arrow\">PCA</label><div class=\"sk-toggleable__content\"><pre>PCA(n_components=36, random_state=42)</pre></div></div></div><div class=\"sk-item\"><div class=\"sk-estimator sk-toggleable\"><input class=\"sk-toggleable__control sk-hidden--visually\" id=\"sk-estimator-id-9\" type=\"checkbox\" ><label for=\"sk-estimator-id-9\" class=\"sk-toggleable__label sk-toggleable__label-arrow\">LinearRegression</label><div class=\"sk-toggleable__content\"><pre>LinearRegression()</pre></div></div></div></div></div></div></div>"
      ],
      "text/plain": [
       "Pipeline(steps=[('ss', StandardScaler()),\n",
       "                ('pc', PCA(n_components=36, random_state=42)),\n",
       "                ('lr', LinearRegression())])"
      ]
     },
     "execution_count": 22,
     "metadata": {},
     "output_type": "execute_result"
    }
   ],
   "source": [
    "lr_pipe.fit(X_train, y_train)"
   ]
  },
  {
   "cell_type": "code",
   "execution_count": 23,
   "id": "48e9509c-7f34-4f5b-b57f-ff078e22167c",
   "metadata": {
    "tags": []
   },
   "outputs": [],
   "source": [
    "preds = lr_pipe.predict(X_test)"
   ]
  },
  {
   "cell_type": "code",
   "execution_count": 24,
   "id": "2bd11f0e-717a-40df-b999-ad4a918d612f",
   "metadata": {
    "tags": []
   },
   "outputs": [
    {
     "name": "stdout",
     "output_type": "stream",
     "text": [
      "Training score: 0.72\n",
      "Test score: 0.56\n",
      "Difference: 0.16\n",
      "RMSE: $1631424\n"
     ]
    }
   ],
   "source": [
    "print(f\"Training score: {round(lr_pipe.score(X_train, y_train), 2)}\")\n",
    "print(f\"Test score: {round(lr_pipe.score(X_test, y_test), 2)}\")\n",
    "print(f\"Difference: {round(lr_pipe.score(X_train, y_train)-(lr_pipe.score(X_test, y_test)), 2)}\")\n",
    "print(f\"RMSE: ${int(mean_squared_error(y_test, preds, squared=False))}\")"
   ]
  },
  {
   "cell_type": "code",
   "execution_count": 26,
   "id": "e419e2ca-2f33-4eb6-bda2-80d9f8d1a8ee",
   "metadata": {},
   "outputs": [],
   "source": [
    "with open('../models/defense_model.pkl', 'wb') as file:\n",
    "    pickle.dump(lr_pipe, file)"
   ]
  },
  {
   "cell_type": "markdown",
   "id": "3864acb2-f3f9-4e4d-870c-745ec0129f17",
   "metadata": {},
   "source": [
    "---\n",
    "#### Notebook Links\n",
    "\n",
    "Part I - Project Intro & Data Cleaning\n",
    "- [`Part-1_setup-and-cleaning.ipynb`](../code/Part-1_setup-and-cleaning.ipynb)\n",
    "\n",
    "Part II - Exploratory Data Analysis (EDA)\n",
    "- [`Part-2_eda.ipynb`](../code/Part-2_eda.ipynb)\n",
    "\n",
    "Part III - Modeling\n",
    "- [`Part-3.1_modeling-forwards.ipynb`](../code/Part-3.1_modeling-forwards.ipynb)\n",
    "- [`Part-3.3_modeling-goalies.ipynb`](../code/Part-3.3_modeling-goalies.ipynb)\n",
    "\n",
    "Part IV - Conclusion, Recommendations, and Sources\n",
    "- [`Part-4_conclusion-and-recommendations.ipynb`](../code/Part-4_conclusion-and-recommendations.ipynb)"
   ]
  }
 ],
 "metadata": {
  "kernelspec": {
   "display_name": "Python 3 (ipykernel)",
   "language": "python",
   "name": "python3"
  },
  "language_info": {
   "codemirror_mode": {
    "name": "ipython",
    "version": 3
   },
   "file_extension": ".py",
   "mimetype": "text/x-python",
   "name": "python",
   "nbconvert_exporter": "python",
   "pygments_lexer": "ipython3",
   "version": "3.10.7"
  },
  "toc-showtags": false
 },
 "nbformat": 4,
 "nbformat_minor": 5
}
