{
 "cells": [
  {
   "cell_type": "markdown",
   "id": "a7a73bfa-6f77-4c06-a275-9ab8c592df19",
   "metadata": {},
   "source": [
    "# Capstone Project: Predicting NHL Player Salary\n",
    "\n",
    "## Part III - Modeling\n",
    "\n",
    "Author: Charles Ramey\n",
    "\n",
    "Date: 05/15/2023\n",
    "\n",
    "---"
   ]
  },
  {
   "cell_type": "markdown",
   "id": "ef7969e0-f09a-4150-9895-4106f59694de",
   "metadata": {},
   "source": [
    "#### Notebook Links\n",
    "\n",
    "Part I - Project Intro & Data Cleaning\n",
    "- [`Part-1_setup-and-cleaning.ipynb`](../code/Part-1_setup-and-cleaning.ipynb)\n",
    "\n",
    "Part II - Exploratory Data Analysis (EDA)\n",
    "- [`Part-2_eda.ipynb`](../code/Part-2_eda.ipynb)\n",
    "\n",
    "Part III - Modeling\n",
    "- [`Part-3.2_modeling-defense.ipynb`](../code/Part-3.2_modeling-defense.ipynb)\n",
    "- [`Part-3.3_modeling-goalies.ipynb`](../code/Part-3.3_modeling-goalies.ipynb)\n",
    "\n",
    "Part IV - Conclusion, Recommendations, and Sources\n",
    "- [`Part-4_conclusion-and-recommendations.ipynb`](../code/Part-4_conclusion-and-recommendations.ipynb)"
   ]
  },
  {
   "cell_type": "markdown",
   "id": "0e1db3b3-860b-4947-ad16-04097ac5d4eb",
   "metadata": {},
   "source": [
    "### Contents\n",
    "\n",
    "- [Data Import and Preprocessing](#Data-Import-and-Cleaning)\n",
    "- [Modeling](#Modeling)"
   ]
  },
  {
   "cell_type": "markdown",
   "id": "fcc3a5b2-62c9-4972-a30f-198c8f48ad2c",
   "metadata": {},
   "source": [
    "### Library Imports"
   ]
  },
  {
   "cell_type": "code",
   "execution_count": 16,
   "id": "964855c1-528c-4270-8479-fa022f13211d",
   "metadata": {
    "tags": []
   },
   "outputs": [],
   "source": [
    "import numpy as np\n",
    "import pandas as pd\n",
    "\n",
    "from sklearn.preprocessing import StandardScaler\n",
    "from sklearn.linear_model import LinearRegression, LassoCV, RidgeCV, ElasticNetCV\n",
    "from sklearn.tree import DecisionTreeRegressor\n",
    "from sklearn.ensemble import RandomForestRegressor, ExtraTreesRegressor, AdaBoostRegressor\n",
    "import xgboost as xg\n",
    "from sklearn.decomposition import PCA\n",
    "from sklearn.pipeline import Pipeline\n",
    "from sklearn.model_selection import cross_val_predict, GridSearchCV\n",
    "\n",
    "from sklearn.metrics import mean_squared_error\n",
    "import pickle\n",
    "import warnings"
   ]
  },
  {
   "cell_type": "markdown",
   "id": "4eb4c1c2-54bc-48c9-8933-fb2f72f9f944",
   "metadata": {},
   "source": [
    "## Data Import and Preprocessing"
   ]
  },
  {
   "cell_type": "markdown",
   "id": "9995dd3b-f56d-4c9b-acbd-84bcc09f344d",
   "metadata": {},
   "source": [
    "### Data Import"
   ]
  },
  {
   "cell_type": "code",
   "execution_count": 2,
   "id": "1689a3fd-c081-4554-a9bb-98b4b6ac1e1f",
   "metadata": {},
   "outputs": [],
   "source": [
    "forwards = pd.read_csv('../data/forwards_cleaned.csv')"
   ]
  },
  {
   "cell_type": "code",
   "execution_count": 3,
   "id": "31595da6-1b1a-4700-a6e9-59257778e4da",
   "metadata": {
    "tags": []
   },
   "outputs": [
    {
     "data": {
      "text/html": [
       "<div>\n",
       "<style scoped>\n",
       "    .dataframe tbody tr th:only-of-type {\n",
       "        vertical-align: middle;\n",
       "    }\n",
       "\n",
       "    .dataframe tbody tr th {\n",
       "        vertical-align: top;\n",
       "    }\n",
       "\n",
       "    .dataframe thead th {\n",
       "        text-align: right;\n",
       "    }\n",
       "</style>\n",
       "<table border=\"1\" class=\"dataframe\">\n",
       "  <thead>\n",
       "    <tr style=\"text-align: right;\">\n",
       "      <th></th>\n",
       "      <th>player</th>\n",
       "      <th>pos</th>\n",
       "      <th>contract_aav</th>\n",
       "      <th>season</th>\n",
       "      <th>pct_change</th>\n",
       "      <th>upper_limit</th>\n",
       "      <th>lower_limit</th>\n",
       "      <th>min_salary</th>\n",
       "      <th>team</th>\n",
       "      <th>games_played</th>\n",
       "      <th>...</th>\n",
       "      <th>xgoals_on_rebounds_shots</th>\n",
       "      <th>share_of_xgoals_from_rebounds_shots</th>\n",
       "      <th>xgoals_from_non_rebounds</th>\n",
       "      <th>xgoals_of_expected_rebounds</th>\n",
       "      <th>created_xgoals</th>\n",
       "      <th>created_xgoals_minus_actual_xgoals</th>\n",
       "      <th>shooting_talent_above_average</th>\n",
       "      <th>shooting_talent_adjusted_expected_goals</th>\n",
       "      <th>goals_above_shooting_talent</th>\n",
       "      <th>final_standing</th>\n",
       "    </tr>\n",
       "  </thead>\n",
       "  <tbody>\n",
       "    <tr>\n",
       "      <th>0</th>\n",
       "      <td>Dana Tyrell</td>\n",
       "      <td>F</td>\n",
       "      <td>600000</td>\n",
       "      <td>2010-11</td>\n",
       "      <td>0.0825</td>\n",
       "      <td>64300000</td>\n",
       "      <td>48300000</td>\n",
       "      <td>525000</td>\n",
       "      <td>TBL</td>\n",
       "      <td>78.0</td>\n",
       "      <td>...</td>\n",
       "      <td>0.9</td>\n",
       "      <td>0.129</td>\n",
       "      <td>6.2</td>\n",
       "      <td>1.0</td>\n",
       "      <td>7.2</td>\n",
       "      <td>0.1</td>\n",
       "      <td>0.0</td>\n",
       "      <td>7.1</td>\n",
       "      <td>-1.1</td>\n",
       "      <td>8.0</td>\n",
       "    </tr>\n",
       "    <tr>\n",
       "      <th>1</th>\n",
       "      <td>Kyle Turris</td>\n",
       "      <td>F</td>\n",
       "      <td>1400000</td>\n",
       "      <td>2010-11</td>\n",
       "      <td>0.0825</td>\n",
       "      <td>64300000</td>\n",
       "      <td>48300000</td>\n",
       "      <td>525000</td>\n",
       "      <td>ARI</td>\n",
       "      <td>65.0</td>\n",
       "      <td>...</td>\n",
       "      <td>1.7</td>\n",
       "      <td>0.163</td>\n",
       "      <td>8.5</td>\n",
       "      <td>1.6</td>\n",
       "      <td>10.0</td>\n",
       "      <td>-0.1</td>\n",
       "      <td>0.0</td>\n",
       "      <td>10.1</td>\n",
       "      <td>0.9</td>\n",
       "      <td>11.0</td>\n",
       "    </tr>\n",
       "  </tbody>\n",
       "</table>\n",
       "<p>2 rows × 84 columns</p>\n",
       "</div>"
      ],
      "text/plain": [
       "        player pos  contract_aav   season  pct_change  upper_limit   \n",
       "0  Dana Tyrell   F        600000  2010-11      0.0825     64300000  \\\n",
       "1  Kyle Turris   F       1400000  2010-11      0.0825     64300000   \n",
       "\n",
       "   lower_limit  min_salary team  games_played  ...  xgoals_on_rebounds_shots   \n",
       "0     48300000      525000  TBL          78.0  ...                       0.9  \\\n",
       "1     48300000      525000  ARI          65.0  ...                       1.7   \n",
       "\n",
       "   share_of_xgoals_from_rebounds_shots  xgoals_from_non_rebounds   \n",
       "0                                0.129                       6.2  \\\n",
       "1                                0.163                       8.5   \n",
       "\n",
       "   xgoals_of_expected_rebounds  created_xgoals   \n",
       "0                          1.0             7.2  \\\n",
       "1                          1.6            10.0   \n",
       "\n",
       "   created_xgoals_minus_actual_xgoals  shooting_talent_above_average   \n",
       "0                                 0.1                            0.0  \\\n",
       "1                                -0.1                            0.0   \n",
       "\n",
       "   shooting_talent_adjusted_expected_goals  goals_above_shooting_talent   \n",
       "0                                      7.1                         -1.1  \\\n",
       "1                                     10.1                          0.9   \n",
       "\n",
       "   final_standing  \n",
       "0             8.0  \n",
       "1            11.0  \n",
       "\n",
       "[2 rows x 84 columns]"
      ]
     },
     "execution_count": 3,
     "metadata": {},
     "output_type": "execute_result"
    }
   ],
   "source": [
    "forwards.head(2)"
   ]
  },
  {
   "cell_type": "markdown",
   "id": "e0bdeccc-caaf-4ad0-ac03-169ff88d2450",
   "metadata": {},
   "source": [
    "### Preprocessing"
   ]
  },
  {
   "cell_type": "markdown",
   "id": "3c80f76b-79b9-43a1-b318-e7fb7b908e65",
   "metadata": {},
   "source": [
    "Recall that in the Part I, we reordered the features for our 2022-23 data that will be used for the app deployment when predicting 2023-24 salaries. Here we need to apply the same transformation to the data we are training the model on. This way, when the 2023 data is fed through the model, all of the features will be in the same order."
   ]
  },
  {
   "cell_type": "code",
   "execution_count": 4,
   "id": "5489a191-0bbd-4ddc-89b8-d1bd49ca3487",
   "metadata": {
    "tags": []
   },
   "outputs": [],
   "source": [
    "ordered_columns = sorted(forwards.columns)\n",
    "forwards = forwards.reindex(columns=ordered_columns)"
   ]
  },
  {
   "cell_type": "code",
   "execution_count": 5,
   "id": "209c0cee-694a-406e-87b0-1349de3cea36",
   "metadata": {
    "tags": []
   },
   "outputs": [
    {
     "data": {
      "text/html": [
       "<div>\n",
       "<style scoped>\n",
       "    .dataframe tbody tr th:only-of-type {\n",
       "        vertical-align: middle;\n",
       "    }\n",
       "\n",
       "    .dataframe tbody tr th {\n",
       "        vertical-align: top;\n",
       "    }\n",
       "\n",
       "    .dataframe thead th {\n",
       "        text-align: right;\n",
       "    }\n",
       "</style>\n",
       "<table border=\"1\" class=\"dataframe\">\n",
       "  <thead>\n",
       "    <tr style=\"text-align: right;\">\n",
       "      <th></th>\n",
       "      <th>assists</th>\n",
       "      <th>assists_per_60_minutes</th>\n",
       "      <th>contract_aav</th>\n",
       "      <th>created_xgoals</th>\n",
       "      <th>created_xgoals_minus_actual_xgoals</th>\n",
       "      <th>defensive_zone_giveaways</th>\n",
       "      <th>expected_goals</th>\n",
       "      <th>expected_goals_per_60_minutes</th>\n",
       "      <th>expected_pct_of_unblocked_shots_that_missed_net</th>\n",
       "      <th>expected_shooting_pct_on_unblocked_shots</th>\n",
       "      <th>...</th>\n",
       "      <th>shots_on_goal_per_60_minutes</th>\n",
       "      <th>shots_that_missed_net</th>\n",
       "      <th>shots_that_were_blocked</th>\n",
       "      <th>takeaways</th>\n",
       "      <th>team</th>\n",
       "      <th>upper_limit</th>\n",
       "      <th>xgoals_from_non_rebounds</th>\n",
       "      <th>xgoals_of_expected_rebounds</th>\n",
       "      <th>xgoals_on_rebounds_shots</th>\n",
       "      <th>xrebounds_created</th>\n",
       "    </tr>\n",
       "  </thead>\n",
       "  <tbody>\n",
       "    <tr>\n",
       "      <th>0</th>\n",
       "      <td>9.0</td>\n",
       "      <td>0.57</td>\n",
       "      <td>600000</td>\n",
       "      <td>7.2</td>\n",
       "      <td>0.1</td>\n",
       "      <td>10.0</td>\n",
       "      <td>7.1</td>\n",
       "      <td>0.45</td>\n",
       "      <td>0.286</td>\n",
       "      <td>0.071</td>\n",
       "      <td>...</td>\n",
       "      <td>4.66</td>\n",
       "      <td>25.0</td>\n",
       "      <td>20.0</td>\n",
       "      <td>21.0</td>\n",
       "      <td>TBL</td>\n",
       "      <td>64300000</td>\n",
       "      <td>6.2</td>\n",
       "      <td>1.0</td>\n",
       "      <td>0.9</td>\n",
       "      <td>4.8</td>\n",
       "    </tr>\n",
       "    <tr>\n",
       "      <th>1</th>\n",
       "      <td>14.0</td>\n",
       "      <td>1.15</td>\n",
       "      <td>1400000</td>\n",
       "      <td>10.0</td>\n",
       "      <td>-0.1</td>\n",
       "      <td>3.0</td>\n",
       "      <td>10.1</td>\n",
       "      <td>0.83</td>\n",
       "      <td>0.273</td>\n",
       "      <td>0.067</td>\n",
       "      <td>...</td>\n",
       "      <td>9.50</td>\n",
       "      <td>34.0</td>\n",
       "      <td>36.0</td>\n",
       "      <td>14.0</td>\n",
       "      <td>ARI</td>\n",
       "      <td>64300000</td>\n",
       "      <td>8.5</td>\n",
       "      <td>1.6</td>\n",
       "      <td>1.7</td>\n",
       "      <td>7.7</td>\n",
       "    </tr>\n",
       "  </tbody>\n",
       "</table>\n",
       "<p>2 rows × 84 columns</p>\n",
       "</div>"
      ],
      "text/plain": [
       "   assists  assists_per_60_minutes  contract_aav  created_xgoals   \n",
       "0      9.0                    0.57        600000             7.2  \\\n",
       "1     14.0                    1.15       1400000            10.0   \n",
       "\n",
       "   created_xgoals_minus_actual_xgoals  defensive_zone_giveaways   \n",
       "0                                 0.1                      10.0  \\\n",
       "1                                -0.1                       3.0   \n",
       "\n",
       "   expected_goals  expected_goals_per_60_minutes   \n",
       "0             7.1                           0.45  \\\n",
       "1            10.1                           0.83   \n",
       "\n",
       "   expected_pct_of_unblocked_shots_that_missed_net   \n",
       "0                                            0.286  \\\n",
       "1                                            0.273   \n",
       "\n",
       "   expected_shooting_pct_on_unblocked_shots  ...   \n",
       "0                                     0.071  ...  \\\n",
       "1                                     0.067  ...   \n",
       "\n",
       "   shots_on_goal_per_60_minutes  shots_that_missed_net   \n",
       "0                          4.66                   25.0  \\\n",
       "1                          9.50                   34.0   \n",
       "\n",
       "   shots_that_were_blocked  takeaways  team  upper_limit   \n",
       "0                     20.0       21.0   TBL     64300000  \\\n",
       "1                     36.0       14.0   ARI     64300000   \n",
       "\n",
       "   xgoals_from_non_rebounds  xgoals_of_expected_rebounds   \n",
       "0                       6.2                          1.0  \\\n",
       "1                       8.5                          1.6   \n",
       "\n",
       "   xgoals_on_rebounds_shots  xrebounds_created  \n",
       "0                       0.9                4.8  \n",
       "1                       1.7                7.7  \n",
       "\n",
       "[2 rows x 84 columns]"
      ]
     },
     "execution_count": 5,
     "metadata": {},
     "output_type": "execute_result"
    }
   ],
   "source": [
    "forwards.head(2)"
   ]
  },
  {
   "cell_type": "markdown",
   "id": "a825fb46-92f2-4bf4-aa58-6e842598df8a",
   "metadata": {},
   "source": [
    "For this project, we are going to train the model on data from the 2010-11 season through the 2019-20 season and then test it on data from the 2020-21 and 2021-22 seasons as if these were seasons we didn't yet have data for. This will give us a more realistic idea of how the model will translate to future seasons."
   ]
  },
  {
   "cell_type": "code",
   "execution_count": 6,
   "id": "40a67741-d975-4f66-9650-2822b9de261b",
   "metadata": {},
   "outputs": [],
   "source": [
    "forwards_train = forwards[~forwards['season'].isin(['2020-21', '2021-22'])]\n",
    "forwards_test = forwards[forwards['season'].isin(['2020-21', '2021-22'])]"
   ]
  },
  {
   "cell_type": "markdown",
   "id": "97e8d7b3-58ec-4511-8faf-86f4a2c433a8",
   "metadata": {
    "tags": []
   },
   "source": [
    "---\n",
    "## Modeling"
   ]
  },
  {
   "cell_type": "markdown",
   "id": "d657ce8c-293e-426a-88a7-f9fd26cf3372",
   "metadata": {},
   "source": [
    "Now we need to split the train and test datasets into the independent and target variables, X and y, where X contains all of the features we will train the model on and y contains the target, `contract_aav`."
   ]
  },
  {
   "cell_type": "code",
   "execution_count": 7,
   "id": "0ef617d8-7005-4d17-acaf-3793a98e504c",
   "metadata": {},
   "outputs": [],
   "source": [
    "X_train = forwards_train.drop(columns=['player', 'pos', 'team', 'season', 'contract_aav'], axis=1)\n",
    "y_train = forwards_train['contract_aav']\n",
    "\n",
    "X_test = forwards_test.drop(columns=['player', 'pos', 'team', 'season', 'contract_aav'], axis=1)\n",
    "y_test = forwards_test['contract_aav']"
   ]
  },
  {
   "cell_type": "markdown",
   "id": "f19296db-c46d-4cc1-96a0-9d0967bb656d",
   "metadata": {},
   "source": [
    "Since the scale of our variables varies widely, we need to scale the data by passing it through a StandardScaler."
   ]
  },
  {
   "cell_type": "code",
   "execution_count": 8,
   "id": "e8d65f79-d72f-4f2a-96d8-9241c076ef08",
   "metadata": {
    "tags": []
   },
   "outputs": [],
   "source": [
    "ss = StandardScaler()\n",
    "\n",
    "Xs_train = ss.fit_transform(X_train)\n",
    "Xs_test = ss.transform(X_test)"
   ]
  },
  {
   "cell_type": "markdown",
   "id": "9028abab-f0e8-4c14-b5b3-d526597cd6d3",
   "metadata": {},
   "source": [
    "We'll start with a simple linear regression model to get a sort of baseline."
   ]
  },
  {
   "cell_type": "code",
   "execution_count": 9,
   "id": "68b1d6af-30f6-4934-8ffc-dc97f747d5ca",
   "metadata": {
    "tags": []
   },
   "outputs": [
    {
     "data": {
      "text/plain": [
       "(0.8386941067410609, 0.6630881101035926)"
      ]
     },
     "execution_count": 9,
     "metadata": {},
     "output_type": "execute_result"
    }
   ],
   "source": [
    "# Initiate the model\n",
    "lr = LinearRegression()\n",
    "\n",
    "# Fit the model to the training data\n",
    "lr.fit(Xs_train, y_train)\n",
    "\n",
    "# Score the model's performance one the train and test data\n",
    "lr.score(Xs_train, y_train), lr.score(Xs_test, y_test)"
   ]
  },
  {
   "cell_type": "code",
   "execution_count": 18,
   "id": "3dab997f-6e38-40b0-813f-71653d041683",
   "metadata": {
    "tags": []
   },
   "outputs": [
    {
     "data": {
      "text/plain": [
       "(0.8359835148751705, 0.6711480651115064)"
      ]
     },
     "execution_count": 18,
     "metadata": {},
     "output_type": "execute_result"
    }
   ],
   "source": [
    "# Initiate the model\n",
    "lasso = LassoCV(alphas = np.logspace(0.001, 10, 1), max_iter=10_000)\n",
    "\n",
    "# Fit the model to the training data\n",
    "with warnings.catch_warnings():\n",
    "    warnings.simplefilter('ignore')\n",
    "    lasso.fit(Xs_train, y_train)\n",
    "\n",
    "# Score the model's performance one the train and test data\n",
    "lasso.score(Xs_train, y_train), lasso.score(Xs_test, y_test)"
   ]
  },
  {
   "cell_type": "markdown",
   "id": "0fb66733-3e3b-418a-a476-c863e1909f74",
   "metadata": {},
   "source": [
    "The basic linear regression model performs okay, however it is somewhat overfit to the training data. One explanation for this is that we have a large number of features, many of which we expect to be collinear to some degree. For example, points are directly calculated by adding goals and assists. One option for handling data with a lot of features and high potential for multicollinearity is to perform a principal component analysis (PCA). This will help us reduce the dimensionality of the data by keying in on the variables that most explain the variation in the target variable.\n",
    "\n",
    "We'll use a gridsearch to test the `n_components` parameter of the PCA transformation which will determine the degree to which the dataset's dimensionality is reduced."
   ]
  },
  {
   "cell_type": "code",
   "execution_count": 11,
   "id": "993ea3f2-841c-4dbf-b08e-ccebfb19c90a",
   "metadata": {
    "tags": []
   },
   "outputs": [
    {
     "data": {
      "text/html": [
       "<style>#sk-container-id-1 {color: black;background-color: white;}#sk-container-id-1 pre{padding: 0;}#sk-container-id-1 div.sk-toggleable {background-color: white;}#sk-container-id-1 label.sk-toggleable__label {cursor: pointer;display: block;width: 100%;margin-bottom: 0;padding: 0.3em;box-sizing: border-box;text-align: center;}#sk-container-id-1 label.sk-toggleable__label-arrow:before {content: \"▸\";float: left;margin-right: 0.25em;color: #696969;}#sk-container-id-1 label.sk-toggleable__label-arrow:hover:before {color: black;}#sk-container-id-1 div.sk-estimator:hover label.sk-toggleable__label-arrow:before {color: black;}#sk-container-id-1 div.sk-toggleable__content {max-height: 0;max-width: 0;overflow: hidden;text-align: left;background-color: #f0f8ff;}#sk-container-id-1 div.sk-toggleable__content pre {margin: 0.2em;color: black;border-radius: 0.25em;background-color: #f0f8ff;}#sk-container-id-1 input.sk-toggleable__control:checked~div.sk-toggleable__content {max-height: 200px;max-width: 100%;overflow: auto;}#sk-container-id-1 input.sk-toggleable__control:checked~label.sk-toggleable__label-arrow:before {content: \"▾\";}#sk-container-id-1 div.sk-estimator input.sk-toggleable__control:checked~label.sk-toggleable__label {background-color: #d4ebff;}#sk-container-id-1 div.sk-label input.sk-toggleable__control:checked~label.sk-toggleable__label {background-color: #d4ebff;}#sk-container-id-1 input.sk-hidden--visually {border: 0;clip: rect(1px 1px 1px 1px);clip: rect(1px, 1px, 1px, 1px);height: 1px;margin: -1px;overflow: hidden;padding: 0;position: absolute;width: 1px;}#sk-container-id-1 div.sk-estimator {font-family: monospace;background-color: #f0f8ff;border: 1px dotted black;border-radius: 0.25em;box-sizing: border-box;margin-bottom: 0.5em;}#sk-container-id-1 div.sk-estimator:hover {background-color: #d4ebff;}#sk-container-id-1 div.sk-parallel-item::after {content: \"\";width: 100%;border-bottom: 1px solid gray;flex-grow: 1;}#sk-container-id-1 div.sk-label:hover label.sk-toggleable__label {background-color: #d4ebff;}#sk-container-id-1 div.sk-serial::before {content: \"\";position: absolute;border-left: 1px solid gray;box-sizing: border-box;top: 0;bottom: 0;left: 50%;z-index: 0;}#sk-container-id-1 div.sk-serial {display: flex;flex-direction: column;align-items: center;background-color: white;padding-right: 0.2em;padding-left: 0.2em;position: relative;}#sk-container-id-1 div.sk-item {position: relative;z-index: 1;}#sk-container-id-1 div.sk-parallel {display: flex;align-items: stretch;justify-content: center;background-color: white;position: relative;}#sk-container-id-1 div.sk-item::before, #sk-container-id-1 div.sk-parallel-item::before {content: \"\";position: absolute;border-left: 1px solid gray;box-sizing: border-box;top: 0;bottom: 0;left: 50%;z-index: -1;}#sk-container-id-1 div.sk-parallel-item {display: flex;flex-direction: column;z-index: 1;position: relative;background-color: white;}#sk-container-id-1 div.sk-parallel-item:first-child::after {align-self: flex-end;width: 50%;}#sk-container-id-1 div.sk-parallel-item:last-child::after {align-self: flex-start;width: 50%;}#sk-container-id-1 div.sk-parallel-item:only-child::after {width: 0;}#sk-container-id-1 div.sk-dashed-wrapped {border: 1px dashed gray;margin: 0 0.4em 0.5em 0.4em;box-sizing: border-box;padding-bottom: 0.4em;background-color: white;}#sk-container-id-1 div.sk-label label {font-family: monospace;font-weight: bold;display: inline-block;line-height: 1.2em;}#sk-container-id-1 div.sk-label-container {text-align: center;}#sk-container-id-1 div.sk-container {/* jupyter's `normalize.less` sets `[hidden] { display: none; }` but bootstrap.min.css set `[hidden] { display: none !important; }` so we also need the `!important` here to be able to override the default hidden behavior on the sphinx rendered scikit-learn.org. See: https://github.com/scikit-learn/scikit-learn/issues/21755 */display: inline-block !important;position: relative;}#sk-container-id-1 div.sk-text-repr-fallback {display: none;}</style><div id=\"sk-container-id-1\" class=\"sk-top-container\"><div class=\"sk-text-repr-fallback\"><pre>GridSearchCV(cv=5,\n",
       "             estimator=Pipeline(steps=[(&#x27;ss&#x27;, StandardScaler()), (&#x27;pc&#x27;, PCA()),\n",
       "                                       (&#x27;lr&#x27;, LinearRegression())]),\n",
       "             n_jobs=-1,\n",
       "             param_grid={&#x27;pc__n_components&#x27;: array([ 1,  2,  3,  4,  5,  6,  7,  8,  9, 10, 11, 12, 13, 14, 15, 16, 17,\n",
       "       18, 19, 20, 21, 22, 23, 24, 25, 26, 27, 28, 29, 30, 31, 32, 33, 34,\n",
       "       35, 36, 37, 38, 39])})</pre><b>In a Jupyter environment, please rerun this cell to show the HTML representation or trust the notebook. <br />On GitHub, the HTML representation is unable to render, please try loading this page with nbviewer.org.</b></div><div class=\"sk-container\" hidden><div class=\"sk-item sk-dashed-wrapped\"><div class=\"sk-label-container\"><div class=\"sk-label sk-toggleable\"><input class=\"sk-toggleable__control sk-hidden--visually\" id=\"sk-estimator-id-1\" type=\"checkbox\" ><label for=\"sk-estimator-id-1\" class=\"sk-toggleable__label sk-toggleable__label-arrow\">GridSearchCV</label><div class=\"sk-toggleable__content\"><pre>GridSearchCV(cv=5,\n",
       "             estimator=Pipeline(steps=[(&#x27;ss&#x27;, StandardScaler()), (&#x27;pc&#x27;, PCA()),\n",
       "                                       (&#x27;lr&#x27;, LinearRegression())]),\n",
       "             n_jobs=-1,\n",
       "             param_grid={&#x27;pc__n_components&#x27;: array([ 1,  2,  3,  4,  5,  6,  7,  8,  9, 10, 11, 12, 13, 14, 15, 16, 17,\n",
       "       18, 19, 20, 21, 22, 23, 24, 25, 26, 27, 28, 29, 30, 31, 32, 33, 34,\n",
       "       35, 36, 37, 38, 39])})</pre></div></div></div><div class=\"sk-parallel\"><div class=\"sk-parallel-item\"><div class=\"sk-item\"><div class=\"sk-label-container\"><div class=\"sk-label sk-toggleable\"><input class=\"sk-toggleable__control sk-hidden--visually\" id=\"sk-estimator-id-2\" type=\"checkbox\" ><label for=\"sk-estimator-id-2\" class=\"sk-toggleable__label sk-toggleable__label-arrow\">estimator: Pipeline</label><div class=\"sk-toggleable__content\"><pre>Pipeline(steps=[(&#x27;ss&#x27;, StandardScaler()), (&#x27;pc&#x27;, PCA()),\n",
       "                (&#x27;lr&#x27;, LinearRegression())])</pre></div></div></div><div class=\"sk-serial\"><div class=\"sk-item\"><div class=\"sk-serial\"><div class=\"sk-item\"><div class=\"sk-estimator sk-toggleable\"><input class=\"sk-toggleable__control sk-hidden--visually\" id=\"sk-estimator-id-3\" type=\"checkbox\" ><label for=\"sk-estimator-id-3\" class=\"sk-toggleable__label sk-toggleable__label-arrow\">StandardScaler</label><div class=\"sk-toggleable__content\"><pre>StandardScaler()</pre></div></div></div><div class=\"sk-item\"><div class=\"sk-estimator sk-toggleable\"><input class=\"sk-toggleable__control sk-hidden--visually\" id=\"sk-estimator-id-4\" type=\"checkbox\" ><label for=\"sk-estimator-id-4\" class=\"sk-toggleable__label sk-toggleable__label-arrow\">PCA</label><div class=\"sk-toggleable__content\"><pre>PCA()</pre></div></div></div><div class=\"sk-item\"><div class=\"sk-estimator sk-toggleable\"><input class=\"sk-toggleable__control sk-hidden--visually\" id=\"sk-estimator-id-5\" type=\"checkbox\" ><label for=\"sk-estimator-id-5\" class=\"sk-toggleable__label sk-toggleable__label-arrow\">LinearRegression</label><div class=\"sk-toggleable__content\"><pre>LinearRegression()</pre></div></div></div></div></div></div></div></div></div></div></div></div>"
      ],
      "text/plain": [
       "GridSearchCV(cv=5,\n",
       "             estimator=Pipeline(steps=[('ss', StandardScaler()), ('pc', PCA()),\n",
       "                                       ('lr', LinearRegression())]),\n",
       "             n_jobs=-1,\n",
       "             param_grid={'pc__n_components': array([ 1,  2,  3,  4,  5,  6,  7,  8,  9, 10, 11, 12, 13, 14, 15, 16, 17,\n",
       "       18, 19, 20, 21, 22, 23, 24, 25, 26, 27, 28, 29, 30, 31, 32, 33, 34,\n",
       "       35, 36, 37, 38, 39])})"
      ]
     },
     "execution_count": 11,
     "metadata": {},
     "output_type": "execute_result"
    }
   ],
   "source": [
    "# Define the pipeline\n",
    "pipe = Pipeline([\n",
    "    ('ss', StandardScaler()),\n",
    "    ('pc', PCA()),\n",
    "    ('lr', LinearRegression())\n",
    "])\n",
    "\n",
    "# Define a parameter grid to search over\n",
    "pgrid = {'pc__n_components' : np.arange(1, 40)}\n",
    "\n",
    "# Instantiate the gridsearch\n",
    "gs = GridSearchCV(pipe, pgrid, cv = 5, n_jobs=-1)\n",
    "\n",
    "# Fit the model with the best parameters\n",
    "gs.fit(X_train, y_train)"
   ]
  },
  {
   "cell_type": "code",
   "execution_count": 12,
   "id": "9c38fdfc-32dd-4e1a-b34b-84389dd06fa4",
   "metadata": {
    "tags": []
   },
   "outputs": [
    {
     "data": {
      "text/plain": [
       "(0.7283299833028327, 0.5790809107800308)"
      ]
     },
     "execution_count": 12,
     "metadata": {},
     "output_type": "execute_result"
    }
   ],
   "source": [
    "# Score the model's performance one the train and test data\n",
    "gs.score(X_train, y_train), gs.score(X_test, y_test)"
   ]
  },
  {
   "cell_type": "markdown",
   "id": "436a76ff-cdc9-416a-a3ef-904310d29301",
   "metadata": {},
   "source": [
    "After adding in the PCA, we were able to reduce some of the overfitting. However, linear regression isn't the only model we have in the bag. Let's test a few others and compare the results."
   ]
  },
  {
   "cell_type": "code",
   "execution_count": 13,
   "id": "57fb6b7a-cb58-446a-9da3-b17c53b081f1",
   "metadata": {
    "tags": []
   },
   "outputs": [],
   "source": [
    "# Instantiation of models to test\n",
    "\n",
    "# Logisitic Regression\n",
    "lr = LinearRegression()\n",
    "\n",
    "# Decision Tree Regressor\n",
    "dt = DecisionTreeRegressor()\n",
    "\n",
    "# Random Forest Regressor\n",
    "rf = RandomForestRegressor()\n",
    "\n",
    "# Extra Trees Regressor\n",
    "et = ExtraTreesRegressor()\n",
    "\n",
    "# Adaptive Boost Regressor\n",
    "ada = AdaBoostRegressor()\n",
    "\n",
    "# Extreme Gradient Boost Regressor\n",
    "xgb = xg.XGBRegressor()"
   ]
  },
  {
   "cell_type": "code",
   "execution_count": 14,
   "id": "e1e3e331-2f8e-462d-bd8d-5b49da085e64",
   "metadata": {
    "tags": []
   },
   "outputs": [],
   "source": [
    "# Define the parameter grids to search over for each model\n",
    "lr_params = {\n",
    "    'pc__n_components' : np.arange(1, 40)\n",
    "}\n",
    "\n",
    "dt_params = {\n",
    "    'pc__n_components' : np.arange(1, 40),\n",
    "    'dt__max_depth': [3,5],\n",
    "    'dt__min_samples_split': [2,5,10],\n",
    "    'dt__random_state': [42]}\n",
    "\n",
    "rf_params = {\n",
    "    'pc__n_components' : np.arange(1, 40),\n",
    "    'rf__max_depth': [3,5],\n",
    "    'rf__min_samples_split': [2,5,10],\n",
    "    'rf__random_state': [42]}\n",
    "    \n",
    "et_params = {\n",
    "    'pc__n_components' : np.arange(1, 40),\n",
    "    'et__n_estimators': [50,100],\n",
    "    'et__max_depth': [3,5],\n",
    "    'et__min_samples_split': [2,5,10],\n",
    "    'et__random_state': [42]}\n",
    "\n",
    "ada_params = {\n",
    "    'pc__n_components' : np.arange(1, 40),\n",
    "    'ada__n_estimators': [50,100],\n",
    "    'ada__learning_rate': [0.3,0.6],\n",
    "    'ada__random_state': [42]}\n",
    "\n",
    "xgb_params = {\n",
    "    'pc__n_components' : np.arange(1, 40),\n",
    "    'xgb__n_estimators': [50,100],\n",
    "    'xgb__learning_rate': [0.3,0.6],\n",
    "    'xgb__random_state': [42]}"
   ]
  },
  {
   "cell_type": "code",
   "execution_count": 15,
   "id": "49b08df6-d2dc-458d-8685-5f970f975d63",
   "metadata": {
    "tags": []
   },
   "outputs": [],
   "source": [
    "'''\n",
    "Code adapted from Devin Faye, General Assembly\n",
    "'''\n",
    "def evaluation(X_train, y_train, X_test, y_test, model, model_name:str,\n",
    "               model_params, scores_df=None):\n",
    "    # If this is the first call of this function and a previous dataframe of scores\n",
    "    # is not passed in the parameters, define a new dataframe to store model metrics\n",
    "    if scores_df is None:\n",
    "        scores_df = pd.DataFrame(columns = ['train_score', 'test_score', 'difference', 'rmse ($)'])\n",
    "\n",
    "    # Create a pipeline that will scale the data, perform a PCA, and feed it into the selected model\n",
    "    pipe = Pipeline([\n",
    "        ('ss', StandardScaler()),\n",
    "        ('pc', PCA(random_state=42)),\n",
    "        (model_name, model)])\n",
    "    \n",
    "    # Instantiate a grid search to pass the pipeline into with hyperparameters to search over\n",
    "    gs = GridSearchCV(\n",
    "        pipe,\n",
    "        model_params,\n",
    "        cv = 5, n_jobs=-1)\n",
    "    \n",
    "    # Fit the model to the training data\n",
    "    gs.fit(X_train, y_train)\n",
    "   \n",
    "    # Print out the best hyperparameters for this model\n",
    "    print(f\"The best parameters for the {model_name} model are: {gs.best_params_}\")\n",
    "    \n",
    "    # Store the model's predicted values\n",
    "    preds = gs.predict(X_test)\n",
    "    \n",
    "    # Score the model's performance on the training and testing data\n",
    "    train_score = round(gs.score(X_train, y_train), 2)\n",
    "    test_score = round(gs.score(X_test, y_test), 2)\n",
    "    difference = round(train_score - test_score, 2)\n",
    "    rmse = int(mean_squared_error(y_test, preds, squared=False))\n",
    "    \n",
    "    # Store the scores in the dataframe\n",
    "    scores_df.loc[model_name,:] = [train_score, test_score, difference, rmse]\n",
    "    # Make sure the scores are being stored as a dataframe\n",
    "    scores_df = pd.DataFrame(scores_df)\n",
    "    \n",
    "    print('')\n",
    "    print(scores_df)\n",
    "    \n",
    "    return scores_df"
   ]
  },
  {
   "cell_type": "code",
   "execution_count": 16,
   "id": "93e19671-c3af-4de2-ab01-51b8d2444e8b",
   "metadata": {
    "tags": []
   },
   "outputs": [
    {
     "name": "stdout",
     "output_type": "stream",
     "text": [
      "The best parameters for the lr model are: {'pc__n_components': 22}\n",
      "\n",
      "   train_score test_score difference rmse ($)\n",
      "lr        0.73       0.58       0.15  1556843\n"
     ]
    }
   ],
   "source": [
    "scores = evaluation(X_train, y_train, X_test, y_test, lr, 'lr',\n",
    "                    lr_params)"
   ]
  },
  {
   "cell_type": "markdown",
   "id": "8b98aa28-d730-4d4a-86cc-c3c20ed12fd5",
   "metadata": {},
   "source": [
    "These results are nothing new, but we'll store them in the `scores_df` to easily compare them side by side with the other models. All results will be interpreted below."
   ]
  },
  {
   "cell_type": "code",
   "execution_count": 17,
   "id": "f7a36002-7eb3-40c6-aa61-7178afaeb32d",
   "metadata": {
    "tags": []
   },
   "outputs": [
    {
     "name": "stdout",
     "output_type": "stream",
     "text": [
      "The best parameters for the dt model are: {'dt__max_depth': 3, 'dt__min_samples_split': 2, 'dt__random_state': 42, 'pc__n_components': 1}\n",
      "\n",
      "   train_score test_score difference rmse ($)\n",
      "lr        0.73       0.58       0.15  1556843\n",
      "dt        0.72        0.5       0.22  1701415\n"
     ]
    }
   ],
   "source": [
    "scores = evaluation(X_train, y_train, X_test, y_test, dt, 'dt',\n",
    "                    dt_params, scores_df=scores)"
   ]
  },
  {
   "cell_type": "code",
   "execution_count": 18,
   "id": "988a367f-f323-4062-9d94-2067694e4ddc",
   "metadata": {
    "tags": []
   },
   "outputs": [
    {
     "name": "stdout",
     "output_type": "stream",
     "text": [
      "The best parameters for the rf model are: {'pc__n_components': 10, 'rf__max_depth': 5, 'rf__min_samples_split': 2, 'rf__random_state': 42}\n",
      "\n",
      "   train_score test_score difference rmse ($)\n",
      "lr        0.73       0.58       0.15  1556843\n",
      "dt        0.72        0.5       0.22  1701415\n",
      "rf        0.89       0.55       0.34  1605023\n"
     ]
    }
   ],
   "source": [
    "scores = evaluation(X_train, y_train, X_test, y_test, rf, 'rf',\n",
    "                    rf_params, scores_df=scores)"
   ]
  },
  {
   "cell_type": "code",
   "execution_count": 19,
   "id": "6b7c108b-e2b1-44c4-a061-fa9c558e5b9c",
   "metadata": {
    "tags": []
   },
   "outputs": [
    {
     "name": "stdout",
     "output_type": "stream",
     "text": [
      "The best parameters for the et model are: {'et__max_depth': 5, 'et__min_samples_split': 5, 'et__n_estimators': 50, 'et__random_state': 42, 'pc__n_components': 32}\n",
      "\n",
      "   train_score test_score difference rmse ($)\n",
      "lr        0.73       0.58       0.15  1556843\n",
      "dt        0.72        0.5       0.22  1701415\n",
      "rf        0.89       0.55       0.34  1605023\n",
      "et         0.8       0.55       0.25  1615605\n"
     ]
    }
   ],
   "source": [
    "scores = evaluation(X_train, y_train, X_test, y_test, et, 'et',\n",
    "                    et_params, scores_df=scores)"
   ]
  },
  {
   "cell_type": "code",
   "execution_count": 20,
   "id": "1f52341d-ca75-4716-a46a-5dba3342c262",
   "metadata": {
    "tags": []
   },
   "outputs": [
    {
     "name": "stdout",
     "output_type": "stream",
     "text": [
      "The best parameters for the ada model are: {'ada__learning_rate': 0.3, 'ada__n_estimators': 50, 'ada__random_state': 42, 'pc__n_components': 39}\n",
      "\n",
      "    train_score test_score difference rmse ($)\n",
      "lr         0.73       0.58       0.15  1556843\n",
      "dt         0.72        0.5       0.22  1701415\n",
      "rf         0.89       0.55       0.34  1605023\n",
      "et          0.8       0.55       0.25  1615605\n",
      "ada        0.84       0.55       0.29  1611526\n"
     ]
    }
   ],
   "source": [
    "scores = evaluation(X_train, y_train, X_test, y_test, ada, 'ada',\n",
    "                    ada_params, scores_df=scores)"
   ]
  },
  {
   "cell_type": "code",
   "execution_count": 21,
   "id": "7bef0484-61ab-41e7-af00-230aef294ee6",
   "metadata": {
    "tags": []
   },
   "outputs": [
    {
     "name": "stdout",
     "output_type": "stream",
     "text": [
      "The best parameters for the xgb model are: {'pc__n_components': 8, 'xgb__learning_rate': 0.3, 'xgb__n_estimators': 100, 'xgb__random_state': 42}\n",
      "\n",
      "    train_score test_score difference rmse ($)\n",
      "lr         0.73       0.58       0.15  1556843\n",
      "dt         0.72        0.5       0.22  1701415\n",
      "rf         0.89       0.55       0.34  1605023\n",
      "et          0.8       0.55       0.25  1615605\n",
      "ada        0.84       0.55       0.29  1611526\n",
      "xgb         1.0       0.45       0.55  1779651\n"
     ]
    }
   ],
   "source": [
    "scores = evaluation(X_train, y_train, X_test, y_test, xgb, 'xgb',\n",
    "                    xgb_params, scores_df=scores)"
   ]
  },
  {
   "cell_type": "markdown",
   "id": "a098f82a-fe9a-4c69-9e0f-46cdc03c53c8",
   "metadata": {},
   "source": [
    "Despite the power of some of these other models, the linear regression performs the best. While it doesn't have the best score on the training data, it does perform the best on the test data with the lowest variance, meaning it will generalize the best to new player data. It also has the lowest root mean squared error (RMSE). It is not shown here, but I performed the same analysis after making a similar logarithmic transformation to the target variable that was made in Part II, expecting some slight improvement to performance, however, the models actually performed worse across the board. Those results are displayed below."
   ]
  },
  {
   "attachments": {
    "30605cd0-b94b-41d6-843f-467b675e8d70.png": {
     "image/png": "[encoded data removed]"
    }
   },
   "cell_type": "markdown",
   "id": "38cb7ead-142b-42b4-9a48-d0c1faf7010b",
   "metadata": {},
   "source": [
    "![image.png](attachment:30605cd0-b94b-41d6-843f-467b675e8d70.png)"
   ]
  },
  {
   "cell_type": "markdown",
   "id": "cb76584b-e88b-439c-ab74-426ec5049446",
   "metadata": {},
   "source": [
    "We'll redefine the linear regression model below, using the best parameters determined by the gridsearch above."
   ]
  },
  {
   "cell_type": "code",
   "execution_count": 22,
   "id": "5a178029-17c8-4ab2-a8f5-30806194b506",
   "metadata": {
    "tags": []
   },
   "outputs": [],
   "source": [
    "lr_pipe = Pipeline([\n",
    "    ('ss', StandardScaler()),\n",
    "    ('pc', PCA(\n",
    "        n_components=37,\n",
    "        random_state=42)),\n",
    "    ('lr', LinearRegression())])"
   ]
  },
  {
   "cell_type": "code",
   "execution_count": 23,
   "id": "63f4d7b8-3603-4fd4-8fa9-3731eaa12159",
   "metadata": {
    "tags": []
   },
   "outputs": [
    {
     "data": {
      "text/html": [
       "<style>#sk-container-id-2 {color: black;background-color: white;}#sk-container-id-2 pre{padding: 0;}#sk-container-id-2 div.sk-toggleable {background-color: white;}#sk-container-id-2 label.sk-toggleable__label {cursor: pointer;display: block;width: 100%;margin-bottom: 0;padding: 0.3em;box-sizing: border-box;text-align: center;}#sk-container-id-2 label.sk-toggleable__label-arrow:before {content: \"▸\";float: left;margin-right: 0.25em;color: #696969;}#sk-container-id-2 label.sk-toggleable__label-arrow:hover:before {color: black;}#sk-container-id-2 div.sk-estimator:hover label.sk-toggleable__label-arrow:before {color: black;}#sk-container-id-2 div.sk-toggleable__content {max-height: 0;max-width: 0;overflow: hidden;text-align: left;background-color: #f0f8ff;}#sk-container-id-2 div.sk-toggleable__content pre {margin: 0.2em;color: black;border-radius: 0.25em;background-color: #f0f8ff;}#sk-container-id-2 input.sk-toggleable__control:checked~div.sk-toggleable__content {max-height: 200px;max-width: 100%;overflow: auto;}#sk-container-id-2 input.sk-toggleable__control:checked~label.sk-toggleable__label-arrow:before {content: \"▾\";}#sk-container-id-2 div.sk-estimator input.sk-toggleable__control:checked~label.sk-toggleable__label {background-color: #d4ebff;}#sk-container-id-2 div.sk-label input.sk-toggleable__control:checked~label.sk-toggleable__label {background-color: #d4ebff;}#sk-container-id-2 input.sk-hidden--visually {border: 0;clip: rect(1px 1px 1px 1px);clip: rect(1px, 1px, 1px, 1px);height: 1px;margin: -1px;overflow: hidden;padding: 0;position: absolute;width: 1px;}#sk-container-id-2 div.sk-estimator {font-family: monospace;background-color: #f0f8ff;border: 1px dotted black;border-radius: 0.25em;box-sizing: border-box;margin-bottom: 0.5em;}#sk-container-id-2 div.sk-estimator:hover {background-color: #d4ebff;}#sk-container-id-2 div.sk-parallel-item::after {content: \"\";width: 100%;border-bottom: 1px solid gray;flex-grow: 1;}#sk-container-id-2 div.sk-label:hover label.sk-toggleable__label {background-color: #d4ebff;}#sk-container-id-2 div.sk-serial::before {content: \"\";position: absolute;border-left: 1px solid gray;box-sizing: border-box;top: 0;bottom: 0;left: 50%;z-index: 0;}#sk-container-id-2 div.sk-serial {display: flex;flex-direction: column;align-items: center;background-color: white;padding-right: 0.2em;padding-left: 0.2em;position: relative;}#sk-container-id-2 div.sk-item {position: relative;z-index: 1;}#sk-container-id-2 div.sk-parallel {display: flex;align-items: stretch;justify-content: center;background-color: white;position: relative;}#sk-container-id-2 div.sk-item::before, #sk-container-id-2 div.sk-parallel-item::before {content: \"\";position: absolute;border-left: 1px solid gray;box-sizing: border-box;top: 0;bottom: 0;left: 50%;z-index: -1;}#sk-container-id-2 div.sk-parallel-item {display: flex;flex-direction: column;z-index: 1;position: relative;background-color: white;}#sk-container-id-2 div.sk-parallel-item:first-child::after {align-self: flex-end;width: 50%;}#sk-container-id-2 div.sk-parallel-item:last-child::after {align-self: flex-start;width: 50%;}#sk-container-id-2 div.sk-parallel-item:only-child::after {width: 0;}#sk-container-id-2 div.sk-dashed-wrapped {border: 1px dashed gray;margin: 0 0.4em 0.5em 0.4em;box-sizing: border-box;padding-bottom: 0.4em;background-color: white;}#sk-container-id-2 div.sk-label label {font-family: monospace;font-weight: bold;display: inline-block;line-height: 1.2em;}#sk-container-id-2 div.sk-label-container {text-align: center;}#sk-container-id-2 div.sk-container {/* jupyter's `normalize.less` sets `[hidden] { display: none; }` but bootstrap.min.css set `[hidden] { display: none !important; }` so we also need the `!important` here to be able to override the default hidden behavior on the sphinx rendered scikit-learn.org. See: https://github.com/scikit-learn/scikit-learn/issues/21755 */display: inline-block !important;position: relative;}#sk-container-id-2 div.sk-text-repr-fallback {display: none;}</style><div id=\"sk-container-id-2\" class=\"sk-top-container\"><div class=\"sk-text-repr-fallback\"><pre>Pipeline(steps=[(&#x27;ss&#x27;, StandardScaler()),\n",
       "                (&#x27;pc&#x27;, PCA(n_components=37, random_state=42)),\n",
       "                (&#x27;lr&#x27;, LinearRegression())])</pre><b>In a Jupyter environment, please rerun this cell to show the HTML representation or trust the notebook. <br />On GitHub, the HTML representation is unable to render, please try loading this page with nbviewer.org.</b></div><div class=\"sk-container\" hidden><div class=\"sk-item sk-dashed-wrapped\"><div class=\"sk-label-container\"><div class=\"sk-label sk-toggleable\"><input class=\"sk-toggleable__control sk-hidden--visually\" id=\"sk-estimator-id-6\" type=\"checkbox\" ><label for=\"sk-estimator-id-6\" class=\"sk-toggleable__label sk-toggleable__label-arrow\">Pipeline</label><div class=\"sk-toggleable__content\"><pre>Pipeline(steps=[(&#x27;ss&#x27;, StandardScaler()),\n",
       "                (&#x27;pc&#x27;, PCA(n_components=37, random_state=42)),\n",
       "                (&#x27;lr&#x27;, LinearRegression())])</pre></div></div></div><div class=\"sk-serial\"><div class=\"sk-item\"><div class=\"sk-estimator sk-toggleable\"><input class=\"sk-toggleable__control sk-hidden--visually\" id=\"sk-estimator-id-7\" type=\"checkbox\" ><label for=\"sk-estimator-id-7\" class=\"sk-toggleable__label sk-toggleable__label-arrow\">StandardScaler</label><div class=\"sk-toggleable__content\"><pre>StandardScaler()</pre></div></div></div><div class=\"sk-item\"><div class=\"sk-estimator sk-toggleable\"><input class=\"sk-toggleable__control sk-hidden--visually\" id=\"sk-estimator-id-8\" type=\"checkbox\" ><label for=\"sk-estimator-id-8\" class=\"sk-toggleable__label sk-toggleable__label-arrow\">PCA</label><div class=\"sk-toggleable__content\"><pre>PCA(n_components=37, random_state=42)</pre></div></div></div><div class=\"sk-item\"><div class=\"sk-estimator sk-toggleable\"><input class=\"sk-toggleable__control sk-hidden--visually\" id=\"sk-estimator-id-9\" type=\"checkbox\" ><label for=\"sk-estimator-id-9\" class=\"sk-toggleable__label sk-toggleable__label-arrow\">LinearRegression</label><div class=\"sk-toggleable__content\"><pre>LinearRegression()</pre></div></div></div></div></div></div></div>"
      ],
      "text/plain": [
       "Pipeline(steps=[('ss', StandardScaler()),\n",
       "                ('pc', PCA(n_components=37, random_state=42)),\n",
       "                ('lr', LinearRegression())])"
      ]
     },
     "execution_count": 23,
     "metadata": {},
     "output_type": "execute_result"
    }
   ],
   "source": [
    "lr_pipe.fit(X_train, y_train)"
   ]
  },
  {
   "cell_type": "code",
   "execution_count": 24,
   "id": "28dc0e79-9506-4c54-a703-5fe461770426",
   "metadata": {
    "tags": []
   },
   "outputs": [],
   "source": [
    "preds = lr_pipe.predict(X_test)"
   ]
  },
  {
   "cell_type": "code",
   "execution_count": 25,
   "id": "ad28d643-8afd-4418-b357-6673838b30e4",
   "metadata": {
    "tags": []
   },
   "outputs": [
    {
     "name": "stdout",
     "output_type": "stream",
     "text": [
      "Training score: 0.81\n",
      "Test score: 0.69\n",
      "Difference: 0.11\n",
      "RMSE: $1325521\n"
     ]
    }
   ],
   "source": [
    "print(f\"Training score: {round(lr_pipe.score(X_train, y_train), 2)}\")\n",
    "print(f\"Test score: {round(lr_pipe.score(X_test, y_test), 2)}\")\n",
    "print(f\"Difference: {round(lr_pipe.score(X_train, y_train)-(lr_pipe.score(X_test, y_test)), 2)}\")\n",
    "print(f\"RMSE: ${int(mean_squared_error(y_test, preds, squared=False))}\")"
   ]
  },
  {
   "cell_type": "markdown",
   "id": "6249824e-4a09-404f-adcc-dbd4bfd46075",
   "metadata": {},
   "source": [
    "Having created, trained, and tested our model on forwards data, we can now pickle the model in order to load it in the web app."
   ]
  },
  {
   "cell_type": "code",
   "execution_count": 26,
   "id": "e419e2ca-2f33-4eb6-bda2-80d9f8d1a8ee",
   "metadata": {},
   "outputs": [],
   "source": [
    "with open('../models/forwards_model.pkl', 'wb') as file:\n",
    "    pickle.dump(lr_pipe, file)"
   ]
  },
  {
   "cell_type": "markdown",
   "id": "33cb8579-28c2-4ecf-84d7-e255b3ed5f40",
   "metadata": {},
   "source": [
    "---\n",
    "#### Notebook Links\n",
    "\n",
    "Part I - Project Intro & Data Cleaning\n",
    "- [`Part-1_setup-and-cleaning.ipynb`](../code/Part-1_setup-and-cleaning.ipynb)\n",
    "\n",
    "Part II - Exploratory Data Analysis (EDA)\n",
    "- [`Part-2_eda.ipynb`](../code/Part-2_eda.ipynb)\n",
    "\n",
    "Part III - Modeling\n",
    "- [`Part-3.2_modeling-defense.ipynb`](../code/Part-3.2_modeling-defense.ipynb)\n",
    "- [`Part-3.3_modeling-goalies.ipynb`](../code/Part-3.3_modeling-goalies.ipynb)\n",
    "\n",
    "Part IV - Conclusion, Recommendations, and Sources\n",
    "- [`Part-4_conclusion-and-recommendations.ipynb`](../code/Part-4_conclusion-and-recommendations.ipynb)"
   ]
  }
 ],
 "metadata": {
  "kernelspec": {
   "display_name": "Python 3 (ipykernel)",
   "language": "python",
   "name": "python3"
  },
  "language_info": {
   "codemirror_mode": {
    "name": "ipython",
    "version": 3
   },
   "file_extension": ".py",
   "mimetype": "text/x-python",
   "name": "python",
   "nbconvert_exporter": "python",
   "pygments_lexer": "ipython3",
   "version": "3.10.7"
  },
  "toc-showtags": false
 },
 "nbformat": 4,
 "nbformat_minor": 5
}
