{
 "cells": [
  {
   "cell_type": "markdown",
   "id": "a7a73bfa-6f77-4c06-a275-9ab8c592df19",
   "metadata": {},
   "source": [
    "# Capstone Project: Predicting NHL Player Salary\n",
    "\n",
    "## Part III - Modeling\n",
    "\n",
    "Author: Charles Ramey\n",
    "\n",
    "Date: 05/15/2023\n",
    "\n",
    "---"
   ]
  },
  {
   "cell_type": "markdown",
   "id": "ef7969e0-f09a-4150-9895-4106f59694de",
   "metadata": {},
   "source": [
    "#### Notebook Links\n",
    "\n",
    "Part I - Project Intro & Data Cleaning\n",
    "- [`Part-1_setup-and-cleaning.ipynb`](../code/Part-1_setup-and-cleaning.ipynb)\n",
    "\n",
    "Part II - Exploratory Data Analysis (EDA)\n",
    "- [`Part-2_eda.ipynb`](../code/Part-2_eda.ipynb)\n",
    "\n",
    "Part III - Modeling\n",
    "- [`Part-3.1_modeling-forwards.ipynb`](../code/Part-3.1_modeling-forwards.ipynb)\n",
    "- [`Part-3.2_modeling-defense.ipynb`](../code/Part-3.2_modeling-defense.ipynb)\n",
    "\n",
    "Part IV - Conclusion, Recommendations, and Sources\n",
    "- [`Part-4_conclusion-and-recommendations.ipynb`](../code/Part-4_conclusion-and-recommendations.ipynb)"
   ]
  },
  {
   "cell_type": "markdown",
   "id": "0e1db3b3-860b-4947-ad16-04097ac5d4eb",
   "metadata": {},
   "source": [
    "### Contents\n",
    "\n",
    "- [Data Import and Preprocessing](#Data-Import-and-Cleaning)\n",
    "- [Modeling](#Modeling)"
   ]
  },
  {
   "cell_type": "markdown",
   "id": "fcc3a5b2-62c9-4972-a30f-198c8f48ad2c",
   "metadata": {},
   "source": [
    "### Library Imports"
   ]
  },
  {
   "cell_type": "code",
   "execution_count": 1,
   "id": "964855c1-528c-4270-8479-fa022f13211d",
   "metadata": {
    "tags": []
   },
   "outputs": [],
   "source": [
    "import numpy as np\n",
    "import pandas as pd\n",
    "\n",
    "from sklearn.preprocessing import StandardScaler\n",
    "from sklearn.linear_model import LinearRegression\n",
    "from sklearn.tree import DecisionTreeRegressor\n",
    "from sklearn.ensemble import RandomForestRegressor, ExtraTreesRegressor, AdaBoostRegressor\n",
    "import xgboost as xg\n",
    "from sklearn.decomposition import PCA\n",
    "from sklearn.pipeline import Pipeline\n",
    "from sklearn.model_selection import cross_val_predict, GridSearchCV\n",
    "\n",
    "from sklearn.metrics import mean_squared_error\n",
    "import pickle"
   ]
  },
  {
   "cell_type": "markdown",
   "id": "4eb4c1c2-54bc-48c9-8933-fb2f72f9f944",
   "metadata": {},
   "source": [
    "## Data Import and Preprocessing"
   ]
  },
  {
   "cell_type": "markdown",
   "id": "9995dd3b-f56d-4c9b-acbd-84bcc09f344d",
   "metadata": {},
   "source": [
    "### Data Import"
   ]
  },
  {
   "cell_type": "code",
   "execution_count": 2,
   "id": "1689a3fd-c081-4554-a9bb-98b4b6ac1e1f",
   "metadata": {},
   "outputs": [],
   "source": [
    "goalies = pd.read_csv('../data/goalies_cleaned.csv')"
   ]
  },
  {
   "cell_type": "code",
   "execution_count": 3,
   "id": "31595da6-1b1a-4700-a6e9-59257778e4da",
   "metadata": {
    "tags": []
   },
   "outputs": [
    {
     "data": {
      "text/html": [
       "<div>\n",
       "<style scoped>\n",
       "    .dataframe tbody tr th:only-of-type {\n",
       "        vertical-align: middle;\n",
       "    }\n",
       "\n",
       "    .dataframe tbody tr th {\n",
       "        vertical-align: top;\n",
       "    }\n",
       "\n",
       "    .dataframe thead th {\n",
       "        text-align: right;\n",
       "    }\n",
       "</style>\n",
       "<table border=\"1\" class=\"dataframe\">\n",
       "  <thead>\n",
       "    <tr style=\"text-align: right;\">\n",
       "      <th></th>\n",
       "      <th>player</th>\n",
       "      <th>pos</th>\n",
       "      <th>contract_aav</th>\n",
       "      <th>season</th>\n",
       "      <th>pct_change</th>\n",
       "      <th>upper_limit</th>\n",
       "      <th>lower_limit</th>\n",
       "      <th>min_salary</th>\n",
       "      <th>team</th>\n",
       "      <th>games_played</th>\n",
       "      <th>...</th>\n",
       "      <th>low_danger_unblocked_shot_attempt_save_pct</th>\n",
       "      <th>xlow_danger_unblocked_shot_attempt_save_pct</th>\n",
       "      <th>low_danger_unblocked_shot_attempt_savepct_above_expected</th>\n",
       "      <th>medium_danger_unblocked_shot_attempt_save_pct</th>\n",
       "      <th>xmedium_danger_unblocked_shot_attempt_save_pct</th>\n",
       "      <th>medium_danger_unblocked_shot_attemptsave_pct_above_expected</th>\n",
       "      <th>high_danger_unblocked_shot_attempt_save_pct</th>\n",
       "      <th>xhigh_danger_unblocked_shot_attempt_save_pct</th>\n",
       "      <th>high_danger_unblocked_shot_attempt_save_pct_above_expected</th>\n",
       "      <th>final_standing</th>\n",
       "    </tr>\n",
       "  </thead>\n",
       "  <tbody>\n",
       "    <tr>\n",
       "      <th>0</th>\n",
       "      <td>Ilya Bryzgalov</td>\n",
       "      <td>G</td>\n",
       "      <td>5666666</td>\n",
       "      <td>2010-11</td>\n",
       "      <td>0.0825</td>\n",
       "      <td>64300000</td>\n",
       "      <td>48300000</td>\n",
       "      <td>525000</td>\n",
       "      <td>ARI</td>\n",
       "      <td>68.0</td>\n",
       "      <td>...</td>\n",
       "      <td>0.976</td>\n",
       "      <td>0.972</td>\n",
       "      <td>0.005</td>\n",
       "      <td>0.895</td>\n",
       "      <td>0.878</td>\n",
       "      <td>0.018</td>\n",
       "      <td>0.624</td>\n",
       "      <td>0.667</td>\n",
       "      <td>-0.043</td>\n",
       "      <td>11.0</td>\n",
       "    </tr>\n",
       "    <tr>\n",
       "      <th>1</th>\n",
       "      <td>Henrik Karlsson</td>\n",
       "      <td>G</td>\n",
       "      <td>862500</td>\n",
       "      <td>2010-11</td>\n",
       "      <td>0.0825</td>\n",
       "      <td>64300000</td>\n",
       "      <td>48300000</td>\n",
       "      <td>525000</td>\n",
       "      <td>CGY</td>\n",
       "      <td>17.0</td>\n",
       "      <td>...</td>\n",
       "      <td>0.965</td>\n",
       "      <td>0.971</td>\n",
       "      <td>-0.007</td>\n",
       "      <td>0.901</td>\n",
       "      <td>0.875</td>\n",
       "      <td>0.026</td>\n",
       "      <td>0.567</td>\n",
       "      <td>0.639</td>\n",
       "      <td>-0.072</td>\n",
       "      <td>17.0</td>\n",
       "    </tr>\n",
       "  </tbody>\n",
       "</table>\n",
       "<p>2 rows × 46 columns</p>\n",
       "</div>"
      ],
      "text/plain": [
       "            player pos  contract_aav   season  pct_change  upper_limit   \n",
       "0   Ilya Bryzgalov   G       5666666  2010-11      0.0825     64300000  \\\n",
       "1  Henrik Karlsson   G        862500  2010-11      0.0825     64300000   \n",
       "\n",
       "   lower_limit  min_salary team  games_played  ...   \n",
       "0     48300000      525000  ARI          68.0  ...  \\\n",
       "1     48300000      525000  CGY          17.0  ...   \n",
       "\n",
       "   low_danger_unblocked_shot_attempt_save_pct   \n",
       "0                                       0.976  \\\n",
       "1                                       0.965   \n",
       "\n",
       "   xlow_danger_unblocked_shot_attempt_save_pct   \n",
       "0                                        0.972  \\\n",
       "1                                        0.971   \n",
       "\n",
       "   low_danger_unblocked_shot_attempt_savepct_above_expected   \n",
       "0                                              0.005         \\\n",
       "1                                             -0.007          \n",
       "\n",
       "   medium_danger_unblocked_shot_attempt_save_pct   \n",
       "0                                          0.895  \\\n",
       "1                                          0.901   \n",
       "\n",
       "   xmedium_danger_unblocked_shot_attempt_save_pct   \n",
       "0                                           0.878  \\\n",
       "1                                           0.875   \n",
       "\n",
       "   medium_danger_unblocked_shot_attemptsave_pct_above_expected   \n",
       "0                                              0.018            \\\n",
       "1                                              0.026             \n",
       "\n",
       "   high_danger_unblocked_shot_attempt_save_pct   \n",
       "0                                        0.624  \\\n",
       "1                                        0.567   \n",
       "\n",
       "   xhigh_danger_unblocked_shot_attempt_save_pct   \n",
       "0                                         0.667  \\\n",
       "1                                         0.639   \n",
       "\n",
       "   high_danger_unblocked_shot_attempt_save_pct_above_expected  final_standing  \n",
       "0                                             -0.043                     11.0  \n",
       "1                                             -0.072                     17.0  \n",
       "\n",
       "[2 rows x 46 columns]"
      ]
     },
     "execution_count": 3,
     "metadata": {},
     "output_type": "execute_result"
    }
   ],
   "source": [
    "goalies.head(2)"
   ]
  },
  {
   "cell_type": "markdown",
   "id": "e0bdeccc-caaf-4ad0-ac03-169ff88d2450",
   "metadata": {},
   "source": [
    "### Preprocessing"
   ]
  },
  {
   "cell_type": "code",
   "execution_count": 4,
   "id": "0e5ff875-055f-4730-9c70-b4ae3d440f1b",
   "metadata": {
    "tags": []
   },
   "outputs": [],
   "source": [
    "ordered_columns = sorted(goalies.columns)\n",
    "goalies = goalies.reindex(columns=ordered_columns)"
   ]
  },
  {
   "cell_type": "code",
   "execution_count": 5,
   "id": "f1f94337-7d0b-4597-a08c-6e19ba408dd2",
   "metadata": {
    "tags": []
   },
   "outputs": [
    {
     "data": {
      "text/html": [
       "<div>\n",
       "<style scoped>\n",
       "    .dataframe tbody tr th:only-of-type {\n",
       "        vertical-align: middle;\n",
       "    }\n",
       "\n",
       "    .dataframe tbody tr th {\n",
       "        vertical-align: top;\n",
       "    }\n",
       "\n",
       "    .dataframe thead th {\n",
       "        text-align: right;\n",
       "    }\n",
       "</style>\n",
       "<table border=\"1\" class=\"dataframe\">\n",
       "  <thead>\n",
       "    <tr style=\"text-align: right;\">\n",
       "      <th></th>\n",
       "      <th>contract_aav</th>\n",
       "      <th>expected_goals_against</th>\n",
       "      <th>expected_pct_of_unblocked_shot_attempts_against_on_goal</th>\n",
       "      <th>expected_puck_freeze</th>\n",
       "      <th>final_standing</th>\n",
       "      <th>gaa</th>\n",
       "      <th>gaa_better_than_expected</th>\n",
       "      <th>games_played</th>\n",
       "      <th>goals_against</th>\n",
       "      <th>goals_saved_above_expected</th>\n",
       "      <th>...</th>\n",
       "      <th>season</th>\n",
       "      <th>team</th>\n",
       "      <th>upper_limit</th>\n",
       "      <th>wins_above_replacement</th>\n",
       "      <th>xgaa</th>\n",
       "      <th>xhigh_danger_unblocked_shot_attempt_save_pct</th>\n",
       "      <th>xlow_danger_unblocked_shot_attempt_save_pct</th>\n",
       "      <th>xmedium_danger_unblocked_shot_attempt_save_pct</th>\n",
       "      <th>xrebounds_per_save</th>\n",
       "      <th>xsave_pct_on_unblocked_shots</th>\n",
       "    </tr>\n",
       "  </thead>\n",
       "  <tbody>\n",
       "    <tr>\n",
       "      <th>0</th>\n",
       "      <td>5666666</td>\n",
       "      <td>182.33</td>\n",
       "      <td>0.5566</td>\n",
       "      <td>485.74</td>\n",
       "      <td>11.0</td>\n",
       "      <td>2.49</td>\n",
       "      <td>0.21</td>\n",
       "      <td>68.0</td>\n",
       "      <td>168.0</td>\n",
       "      <td>14.3</td>\n",
       "      <td>...</td>\n",
       "      <td>2010-11</td>\n",
       "      <td>ARI</td>\n",
       "      <td>64300000</td>\n",
       "      <td>2.39</td>\n",
       "      <td>2.70</td>\n",
       "      <td>0.667</td>\n",
       "      <td>0.972</td>\n",
       "      <td>0.878</td>\n",
       "      <td>0.041</td>\n",
       "      <td>0.953</td>\n",
       "    </tr>\n",
       "    <tr>\n",
       "      <th>1</th>\n",
       "      <td>862500</td>\n",
       "      <td>33.13</td>\n",
       "      <td>0.5330</td>\n",
       "      <td>87.20</td>\n",
       "      <td>17.0</td>\n",
       "      <td>2.59</td>\n",
       "      <td>-0.21</td>\n",
       "      <td>17.0</td>\n",
       "      <td>36.0</td>\n",
       "      <td>-2.9</td>\n",
       "      <td>...</td>\n",
       "      <td>2010-11</td>\n",
       "      <td>CGY</td>\n",
       "      <td>64300000</td>\n",
       "      <td>-0.48</td>\n",
       "      <td>2.38</td>\n",
       "      <td>0.639</td>\n",
       "      <td>0.971</td>\n",
       "      <td>0.875</td>\n",
       "      <td>0.037</td>\n",
       "      <td>0.954</td>\n",
       "    </tr>\n",
       "  </tbody>\n",
       "</table>\n",
       "<p>2 rows × 46 columns</p>\n",
       "</div>"
      ],
      "text/plain": [
       "   contract_aav  expected_goals_against   \n",
       "0       5666666                  182.33  \\\n",
       "1        862500                   33.13   \n",
       "\n",
       "   expected_pct_of_unblocked_shot_attempts_against_on_goal   \n",
       "0                                             0.5566        \\\n",
       "1                                             0.5330         \n",
       "\n",
       "   expected_puck_freeze  final_standing   gaa  gaa_better_than_expected   \n",
       "0                485.74            11.0  2.49                      0.21  \\\n",
       "1                 87.20            17.0  2.59                     -0.21   \n",
       "\n",
       "   games_played  goals_against  goals_saved_above_expected  ...   season   \n",
       "0          68.0          168.0                        14.3  ...  2010-11  \\\n",
       "1          17.0           36.0                        -2.9  ...  2010-11   \n",
       "\n",
       "   team  upper_limit  wins_above_replacement  xgaa   \n",
       "0   ARI     64300000                    2.39  2.70  \\\n",
       "1   CGY     64300000                   -0.48  2.38   \n",
       "\n",
       "   xhigh_danger_unblocked_shot_attempt_save_pct   \n",
       "0                                         0.667  \\\n",
       "1                                         0.639   \n",
       "\n",
       "   xlow_danger_unblocked_shot_attempt_save_pct   \n",
       "0                                        0.972  \\\n",
       "1                                        0.971   \n",
       "\n",
       "   xmedium_danger_unblocked_shot_attempt_save_pct  xrebounds_per_save   \n",
       "0                                           0.878               0.041  \\\n",
       "1                                           0.875               0.037   \n",
       "\n",
       "   xsave_pct_on_unblocked_shots  \n",
       "0                         0.953  \n",
       "1                         0.954  \n",
       "\n",
       "[2 rows x 46 columns]"
      ]
     },
     "execution_count": 5,
     "metadata": {},
     "output_type": "execute_result"
    }
   ],
   "source": [
    "goalies.head(2)"
   ]
  },
  {
   "cell_type": "code",
   "execution_count": 6,
   "id": "40a67741-d975-4f66-9650-2822b9de261b",
   "metadata": {},
   "outputs": [],
   "source": [
    "goalies_train = goalies[~goalies['season'].isin(['2020-21', '2021-22'])]\n",
    "goalies_test = goalies[goalies['season'].isin(['2020-21', '2021-22'])]"
   ]
  },
  {
   "cell_type": "markdown",
   "id": "97e8d7b3-58ec-4511-8faf-86f4a2c433a8",
   "metadata": {
    "tags": []
   },
   "source": [
    "---\n",
    "## Modeling"
   ]
  },
  {
   "cell_type": "code",
   "execution_count": 7,
   "id": "0ef617d8-7005-4d17-acaf-3793a98e504c",
   "metadata": {},
   "outputs": [],
   "source": [
    "X_train = goalies_train.drop(columns=['player', 'pos', 'team', 'season', 'contract_aav'], axis=1)\n",
    "y_train = goalies_train['contract_aav']\n",
    "\n",
    "X_test = goalies_test.drop(columns=['player', 'pos', 'team', 'season', 'contract_aav'], axis=1)\n",
    "y_test = goalies_test['contract_aav']"
   ]
  },
  {
   "cell_type": "code",
   "execution_count": 8,
   "id": "6947a7f1-514d-45fa-8bef-f6f8fd7d6693",
   "metadata": {
    "tags": []
   },
   "outputs": [],
   "source": [
    "ss = StandardScaler()\n",
    "\n",
    "Xs_train = ss.fit_transform(X_train)\n",
    "Xs_test = ss.transform(X_test)"
   ]
  },
  {
   "cell_type": "code",
   "execution_count": 9,
   "id": "0b39f1bd-f1af-4d4a-ad49-0eb7a2bb8c3e",
   "metadata": {
    "tags": []
   },
   "outputs": [
    {
     "data": {
      "text/plain": [
       "(0.705828450564584, 0.08840994935667668)"
      ]
     },
     "execution_count": 9,
     "metadata": {},
     "output_type": "execute_result"
    }
   ],
   "source": [
    "# Initiate the model\n",
    "lr = LinearRegression()\n",
    "\n",
    "# Fit the model to the training data\n",
    "lr.fit(Xs_train, y_train)\n",
    "\n",
    "# Score the model's performance one the train and test data\n",
    "lr.score(Xs_train, y_train), lr.score(Xs_test, y_test)"
   ]
  },
  {
   "cell_type": "code",
   "execution_count": 10,
   "id": "fbc04fd7-77f6-4bfd-aa0e-c7462eb613f7",
   "metadata": {
    "tags": []
   },
   "outputs": [
    {
     "data": {
      "text/html": [
       "<style>#sk-container-id-1 {color: black;background-color: white;}#sk-container-id-1 pre{padding: 0;}#sk-container-id-1 div.sk-toggleable {background-color: white;}#sk-container-id-1 label.sk-toggleable__label {cursor: pointer;display: block;width: 100%;margin-bottom: 0;padding: 0.3em;box-sizing: border-box;text-align: center;}#sk-container-id-1 label.sk-toggleable__label-arrow:before {content: \"▸\";float: left;margin-right: 0.25em;color: #696969;}#sk-container-id-1 label.sk-toggleable__label-arrow:hover:before {color: black;}#sk-container-id-1 div.sk-estimator:hover label.sk-toggleable__label-arrow:before {color: black;}#sk-container-id-1 div.sk-toggleable__content {max-height: 0;max-width: 0;overflow: hidden;text-align: left;background-color: #f0f8ff;}#sk-container-id-1 div.sk-toggleable__content pre {margin: 0.2em;color: black;border-radius: 0.25em;background-color: #f0f8ff;}#sk-container-id-1 input.sk-toggleable__control:checked~div.sk-toggleable__content {max-height: 200px;max-width: 100%;overflow: auto;}#sk-container-id-1 input.sk-toggleable__control:checked~label.sk-toggleable__label-arrow:before {content: \"▾\";}#sk-container-id-1 div.sk-estimator input.sk-toggleable__control:checked~label.sk-toggleable__label {background-color: #d4ebff;}#sk-container-id-1 div.sk-label input.sk-toggleable__control:checked~label.sk-toggleable__label {background-color: #d4ebff;}#sk-container-id-1 input.sk-hidden--visually {border: 0;clip: rect(1px 1px 1px 1px);clip: rect(1px, 1px, 1px, 1px);height: 1px;margin: -1px;overflow: hidden;padding: 0;position: absolute;width: 1px;}#sk-container-id-1 div.sk-estimator {font-family: monospace;background-color: #f0f8ff;border: 1px dotted black;border-radius: 0.25em;box-sizing: border-box;margin-bottom: 0.5em;}#sk-container-id-1 div.sk-estimator:hover {background-color: #d4ebff;}#sk-container-id-1 div.sk-parallel-item::after {content: \"\";width: 100%;border-bottom: 1px solid gray;flex-grow: 1;}#sk-container-id-1 div.sk-label:hover label.sk-toggleable__label {background-color: #d4ebff;}#sk-container-id-1 div.sk-serial::before {content: \"\";position: absolute;border-left: 1px solid gray;box-sizing: border-box;top: 0;bottom: 0;left: 50%;z-index: 0;}#sk-container-id-1 div.sk-serial {display: flex;flex-direction: column;align-items: center;background-color: white;padding-right: 0.2em;padding-left: 0.2em;position: relative;}#sk-container-id-1 div.sk-item {position: relative;z-index: 1;}#sk-container-id-1 div.sk-parallel {display: flex;align-items: stretch;justify-content: center;background-color: white;position: relative;}#sk-container-id-1 div.sk-item::before, #sk-container-id-1 div.sk-parallel-item::before {content: \"\";position: absolute;border-left: 1px solid gray;box-sizing: border-box;top: 0;bottom: 0;left: 50%;z-index: -1;}#sk-container-id-1 div.sk-parallel-item {display: flex;flex-direction: column;z-index: 1;position: relative;background-color: white;}#sk-container-id-1 div.sk-parallel-item:first-child::after {align-self: flex-end;width: 50%;}#sk-container-id-1 div.sk-parallel-item:last-child::after {align-self: flex-start;width: 50%;}#sk-container-id-1 div.sk-parallel-item:only-child::after {width: 0;}#sk-container-id-1 div.sk-dashed-wrapped {border: 1px dashed gray;margin: 0 0.4em 0.5em 0.4em;box-sizing: border-box;padding-bottom: 0.4em;background-color: white;}#sk-container-id-1 div.sk-label label {font-family: monospace;font-weight: bold;display: inline-block;line-height: 1.2em;}#sk-container-id-1 div.sk-label-container {text-align: center;}#sk-container-id-1 div.sk-container {/* jupyter's `normalize.less` sets `[hidden] { display: none; }` but bootstrap.min.css set `[hidden] { display: none !important; }` so we also need the `!important` here to be able to override the default hidden behavior on the sphinx rendered scikit-learn.org. See: https://github.com/scikit-learn/scikit-learn/issues/21755 */display: inline-block !important;position: relative;}#sk-container-id-1 div.sk-text-repr-fallback {display: none;}</style><div id=\"sk-container-id-1\" class=\"sk-top-container\"><div class=\"sk-text-repr-fallback\"><pre>GridSearchCV(cv=5,\n",
       "             estimator=Pipeline(steps=[(&#x27;ss&#x27;, StandardScaler()), (&#x27;pc&#x27;, PCA()),\n",
       "                                       (&#x27;lr&#x27;, LinearRegression())]),\n",
       "             n_jobs=-1,\n",
       "             param_grid={&#x27;pc__n_components&#x27;: array([ 1,  2,  3,  4,  5,  6,  7,  8,  9, 10, 11, 12, 13, 14, 15, 16, 17,\n",
       "       18, 19, 20, 21, 22, 23, 24, 25, 26, 27, 28, 29, 30, 31, 32, 33, 34,\n",
       "       35, 36, 37, 38, 39])})</pre><b>In a Jupyter environment, please rerun this cell to show the HTML representation or trust the notebook. <br />On GitHub, the HTML representation is unable to render, please try loading this page with nbviewer.org.</b></div><div class=\"sk-container\" hidden><div class=\"sk-item sk-dashed-wrapped\"><div class=\"sk-label-container\"><div class=\"sk-label sk-toggleable\"><input class=\"sk-toggleable__control sk-hidden--visually\" id=\"sk-estimator-id-1\" type=\"checkbox\" ><label for=\"sk-estimator-id-1\" class=\"sk-toggleable__label sk-toggleable__label-arrow\">GridSearchCV</label><div class=\"sk-toggleable__content\"><pre>GridSearchCV(cv=5,\n",
       "             estimator=Pipeline(steps=[(&#x27;ss&#x27;, StandardScaler()), (&#x27;pc&#x27;, PCA()),\n",
       "                                       (&#x27;lr&#x27;, LinearRegression())]),\n",
       "             n_jobs=-1,\n",
       "             param_grid={&#x27;pc__n_components&#x27;: array([ 1,  2,  3,  4,  5,  6,  7,  8,  9, 10, 11, 12, 13, 14, 15, 16, 17,\n",
       "       18, 19, 20, 21, 22, 23, 24, 25, 26, 27, 28, 29, 30, 31, 32, 33, 34,\n",
       "       35, 36, 37, 38, 39])})</pre></div></div></div><div class=\"sk-parallel\"><div class=\"sk-parallel-item\"><div class=\"sk-item\"><div class=\"sk-label-container\"><div class=\"sk-label sk-toggleable\"><input class=\"sk-toggleable__control sk-hidden--visually\" id=\"sk-estimator-id-2\" type=\"checkbox\" ><label for=\"sk-estimator-id-2\" class=\"sk-toggleable__label sk-toggleable__label-arrow\">estimator: Pipeline</label><div class=\"sk-toggleable__content\"><pre>Pipeline(steps=[(&#x27;ss&#x27;, StandardScaler()), (&#x27;pc&#x27;, PCA()),\n",
       "                (&#x27;lr&#x27;, LinearRegression())])</pre></div></div></div><div class=\"sk-serial\"><div class=\"sk-item\"><div class=\"sk-serial\"><div class=\"sk-item\"><div class=\"sk-estimator sk-toggleable\"><input class=\"sk-toggleable__control sk-hidden--visually\" id=\"sk-estimator-id-3\" type=\"checkbox\" ><label for=\"sk-estimator-id-3\" class=\"sk-toggleable__label sk-toggleable__label-arrow\">StandardScaler</label><div class=\"sk-toggleable__content\"><pre>StandardScaler()</pre></div></div></div><div class=\"sk-item\"><div class=\"sk-estimator sk-toggleable\"><input class=\"sk-toggleable__control sk-hidden--visually\" id=\"sk-estimator-id-4\" type=\"checkbox\" ><label for=\"sk-estimator-id-4\" class=\"sk-toggleable__label sk-toggleable__label-arrow\">PCA</label><div class=\"sk-toggleable__content\"><pre>PCA()</pre></div></div></div><div class=\"sk-item\"><div class=\"sk-estimator sk-toggleable\"><input class=\"sk-toggleable__control sk-hidden--visually\" id=\"sk-estimator-id-5\" type=\"checkbox\" ><label for=\"sk-estimator-id-5\" class=\"sk-toggleable__label sk-toggleable__label-arrow\">LinearRegression</label><div class=\"sk-toggleable__content\"><pre>LinearRegression()</pre></div></div></div></div></div></div></div></div></div></div></div></div>"
      ],
      "text/plain": [
       "GridSearchCV(cv=5,\n",
       "             estimator=Pipeline(steps=[('ss', StandardScaler()), ('pc', PCA()),\n",
       "                                       ('lr', LinearRegression())]),\n",
       "             n_jobs=-1,\n",
       "             param_grid={'pc__n_components': array([ 1,  2,  3,  4,  5,  6,  7,  8,  9, 10, 11, 12, 13, 14, 15, 16, 17,\n",
       "       18, 19, 20, 21, 22, 23, 24, 25, 26, 27, 28, 29, 30, 31, 32, 33, 34,\n",
       "       35, 36, 37, 38, 39])})"
      ]
     },
     "execution_count": 10,
     "metadata": {},
     "output_type": "execute_result"
    }
   ],
   "source": [
    "# Define the pipeline\n",
    "pipe = Pipeline([\n",
    "    ('ss', StandardScaler()),\n",
    "    ('pc', PCA()),\n",
    "    ('lr', LinearRegression())\n",
    "])\n",
    "\n",
    "# Define a parameter grid to search over\n",
    "pgrid = {'pc__n_components' : np.arange(1, 40)}\n",
    "\n",
    "# Instantiate the gridsearch\n",
    "gs = GridSearchCV(pipe, pgrid, cv = 5, n_jobs=-1)\n",
    "\n",
    "# Fit the model with the best parameters\n",
    "gs.fit(X_train, y_train)"
   ]
  },
  {
   "cell_type": "code",
   "execution_count": 11,
   "id": "b8744783-d0d5-4bfc-b087-fb6387577bec",
   "metadata": {
    "tags": []
   },
   "outputs": [
    {
     "data": {
      "text/plain": [
       "(0.4627815738981269, -0.16263417142296865)"
      ]
     },
     "execution_count": 11,
     "metadata": {},
     "output_type": "execute_result"
    }
   ],
   "source": [
    "# Score the model's performance one the train and test data\n",
    "gs.score(X_train, y_train), gs.score(X_test, y_test)"
   ]
  },
  {
   "cell_type": "code",
   "execution_count": 12,
   "id": "8216c78e-6ca7-4d00-9d52-c350a0bbced0",
   "metadata": {
    "tags": []
   },
   "outputs": [],
   "source": [
    "# Instantiation of models to test\n",
    "\n",
    "# Logisitic Regression\n",
    "lr = LinearRegression()\n",
    "\n",
    "# Decision Tree Regressor\n",
    "dt = DecisionTreeRegressor()\n",
    "\n",
    "# Random Forest Regressor\n",
    "rf = RandomForestRegressor()\n",
    "\n",
    "# Extra Trees Regressor\n",
    "et = ExtraTreesRegressor()\n",
    "\n",
    "# Adaptive Boost Regressor\n",
    "ada = AdaBoostRegressor()\n",
    "\n",
    "# Extreme Gradient Boost Regressor\n",
    "xgb = xg.XGBRegressor()"
   ]
  },
  {
   "cell_type": "code",
   "execution_count": 13,
   "id": "06dd494f-2614-46d0-87be-9e6185b53a2c",
   "metadata": {
    "tags": []
   },
   "outputs": [],
   "source": [
    "lr_params = {\n",
    "    'pc__n_components' : np.arange(1, 40)\n",
    "}\n",
    "\n",
    "dt_params = {\n",
    "    'pc__n_components' : np.arange(1, 40),\n",
    "    'dt__max_depth': [3,5],\n",
    "    'dt__min_samples_split': [2,5,10],\n",
    "    'dt__random_state': [42]}\n",
    "\n",
    "rf_params = {\n",
    "    'pc__n_components' : np.arange(1, 40),\n",
    "    'rf__max_depth': [3,5],\n",
    "    'rf__min_samples_split': [2,5,10],\n",
    "    'rf__random_state': [42]}\n",
    "    \n",
    "et_params = {\n",
    "    'pc__n_components' : np.arange(1, 40),\n",
    "    'et__n_estimators': [50,100],\n",
    "    'et__max_depth': [3,5],\n",
    "    'et__min_samples_split': [2,5,10],\n",
    "    'et__random_state': [42]}\n",
    "\n",
    "ada_params = {\n",
    "    'pc__n_components' : np.arange(1, 40),\n",
    "    'ada__n_estimators': [50,100],\n",
    "    'ada__learning_rate': [0.3,0.6],\n",
    "    'ada__random_state': [42]}\n",
    "\n",
    "xgb_params = {\n",
    "    'pc__n_components' : np.arange(1, 40),\n",
    "    'xgb__n_estimators': [50,100],\n",
    "    'xgb__learning_rate': [0.3,0.6],\n",
    "    'xgb__random_state': [42]}"
   ]
  },
  {
   "cell_type": "code",
   "execution_count": 14,
   "id": "f9279fac-f40b-44dc-90ed-07c718767092",
   "metadata": {
    "tags": []
   },
   "outputs": [],
   "source": [
    "'''\n",
    "Code adapted from Devin Faye, General Assembly\n",
    "'''\n",
    "def evaluation(X_train, y_train, X_test, y_test, model, model_name:str,\n",
    "               model_params, scores_df=None):\n",
    "    # If this is the first call of this function and a previous dataframe of scores\n",
    "    # is not passed in the parameters, define a new dataframe to store model metrics\n",
    "    if scores_df is None:\n",
    "        scores_df = pd.DataFrame(columns = ['train_score', 'test_score', 'difference', 'rmse ($)'])\n",
    "\n",
    "    # Create a pipeline that will scale the data, perform a PCA, and feed it into the selected model\n",
    "    pipe = Pipeline([\n",
    "        ('ss', StandardScaler()),\n",
    "        ('pc', PCA(random_state=42)),\n",
    "        (model_name, model)])\n",
    "    \n",
    "    # Instantiate a grid search to pass the pipeline into with hyperparameters to search over\n",
    "    gs = GridSearchCV(\n",
    "        pipe,\n",
    "        model_params,\n",
    "        cv = 5, n_jobs=-1)\n",
    "    \n",
    "    # Fit the model to the training data\n",
    "    gs.fit(X_train, y_train)\n",
    "   \n",
    "    # Print out the best hyperparameters for this model\n",
    "    print(f\"The best parameters for the {model_name} model are: {gs.best_params_}\")\n",
    "    \n",
    "    # Store the model's predicted values\n",
    "    preds = gs.predict(X_test)\n",
    "    \n",
    "    # Score the model's performance on the training and testing data\n",
    "    train_score = round(gs.score(X_train, y_train), 2)\n",
    "    test_score = round(gs.score(X_test, y_test), 2)\n",
    "    difference = round(train_score - test_score, 2)\n",
    "    rmse = int(mean_squared_error(y_test, preds, squared=False))\n",
    "    \n",
    "    # Store the scores in the dataframe\n",
    "    scores_df.loc[model_name,:] = [train_score, test_score, difference, rmse]\n",
    "    # Make sure the scores are being stored as a dataframe\n",
    "    scores_df = pd.DataFrame(scores_df)\n",
    "    \n",
    "    print('')\n",
    "    print(scores_df)\n",
    "    \n",
    "    return scores_df"
   ]
  },
  {
   "cell_type": "code",
   "execution_count": 15,
   "id": "87b6a3f1-8eee-440f-a8d8-214a392a7b79",
   "metadata": {
    "tags": []
   },
   "outputs": [
    {
     "name": "stdout",
     "output_type": "stream",
     "text": [
      "The best parameters for the lr model are: {'pc__n_components': 4}\n",
      "\n",
      "   train_score test_score difference rmse ($)\n",
      "lr        0.46      -0.16       0.62  1682295\n"
     ]
    }
   ],
   "source": [
    "scores = evaluation(X_train, y_train, X_test, y_test, lr, 'lr',\n",
    "                    lr_params)"
   ]
  },
  {
   "cell_type": "code",
   "execution_count": 16,
   "id": "bda0d9a4-8efa-4736-b04d-0f2c32c92cbf",
   "metadata": {
    "tags": []
   },
   "outputs": [
    {
     "name": "stdout",
     "output_type": "stream",
     "text": [
      "The best parameters for the dt model are: {'dt__max_depth': 3, 'dt__min_samples_split': 2, 'dt__random_state': 42, 'pc__n_components': 1}\n",
      "\n",
      "   train_score test_score difference rmse ($)\n",
      "lr        0.46      -0.16       0.62  1682295\n",
      "dt         0.5      -0.27       0.77  1758036\n"
     ]
    }
   ],
   "source": [
    "scores = evaluation(X_train, y_train, X_test, y_test, dt, 'dt',\n",
    "                    dt_params, scores_df=scores)"
   ]
  },
  {
   "cell_type": "code",
   "execution_count": 17,
   "id": "2e2dd7ba-5e0d-4c5a-8bfa-d7101ad42aa6",
   "metadata": {
    "tags": []
   },
   "outputs": [
    {
     "name": "stdout",
     "output_type": "stream",
     "text": [
      "The best parameters for the rf model are: {'pc__n_components': 12, 'rf__max_depth': 5, 'rf__min_samples_split': 10, 'rf__random_state': 42}\n",
      "\n",
      "   train_score test_score difference rmse ($)\n",
      "lr        0.46      -0.16       0.62  1682295\n",
      "dt         0.5      -0.27       0.77  1758036\n",
      "rf        0.75      -0.26       1.01  1751746\n"
     ]
    }
   ],
   "source": [
    "scores = evaluation(X_train, y_train, X_test, y_test, rf, 'rf',\n",
    "                    rf_params, scores_df=scores)"
   ]
  },
  {
   "cell_type": "code",
   "execution_count": 18,
   "id": "0344665b-791f-4a82-a1c0-420932277e6d",
   "metadata": {
    "tags": []
   },
   "outputs": [
    {
     "name": "stdout",
     "output_type": "stream",
     "text": [
      "The best parameters for the et model are: {'et__max_depth': 5, 'et__min_samples_split': 10, 'et__n_estimators': 50, 'et__random_state': 42, 'pc__n_components': 14}\n",
      "\n",
      "   train_score test_score difference rmse ($)\n",
      "lr        0.46      -0.16       0.62  1682295\n",
      "dt         0.5      -0.27       0.77  1758036\n",
      "rf        0.75      -0.26       1.01  1751746\n",
      "et        0.67      -0.13        0.8  1660682\n"
     ]
    }
   ],
   "source": [
    "scores = evaluation(X_train, y_train, X_test, y_test, et, 'et',\n",
    "                    et_params, scores_df=scores)"
   ]
  },
  {
   "cell_type": "code",
   "execution_count": 19,
   "id": "58a50879-c23e-42f0-8a5e-9f6ef2526bc0",
   "metadata": {
    "tags": []
   },
   "outputs": [
    {
     "name": "stdout",
     "output_type": "stream",
     "text": [
      "The best parameters for the ada model are: {'ada__learning_rate': 0.3, 'ada__n_estimators': 50, 'ada__random_state': 42, 'pc__n_components': 22}\n",
      "\n",
      "    train_score test_score difference rmse ($)\n",
      "lr         0.46      -0.16       0.62  1682295\n",
      "dt          0.5      -0.27       0.77  1758036\n",
      "rf         0.75      -0.26       1.01  1751746\n",
      "et         0.67      -0.13        0.8  1660682\n",
      "ada        0.78      -0.03       0.81  1583427\n"
     ]
    }
   ],
   "source": [
    "scores = evaluation(X_train, y_train, X_test, y_test, ada, 'ada',\n",
    "                    ada_params, scores_df=scores)"
   ]
  },
  {
   "cell_type": "code",
   "execution_count": 20,
   "id": "a60ba5f2-e394-4e75-9371-a841dcae976c",
   "metadata": {
    "tags": []
   },
   "outputs": [
    {
     "name": "stdout",
     "output_type": "stream",
     "text": [
      "The best parameters for the xgb model are: {'pc__n_components': 16, 'xgb__learning_rate': 0.3, 'xgb__n_estimators': 50, 'xgb__random_state': 42}\n",
      "\n",
      "    train_score test_score difference rmse ($)\n",
      "lr         0.46      -0.16       0.62  1682295\n",
      "dt          0.5      -0.27       0.77  1758036\n",
      "rf         0.75      -0.26       1.01  1751746\n",
      "et         0.67      -0.13        0.8  1660682\n",
      "ada        0.78      -0.03       0.81  1583427\n",
      "xgb         1.0      -0.68       1.68  2020580\n"
     ]
    }
   ],
   "source": [
    "scores = evaluation(X_train, y_train, X_test, y_test, xgb, 'xgb',\n",
    "                    xgb_params, scores_df=scores)"
   ]
  },
  {
   "cell_type": "markdown",
   "id": "51818f0b-32d8-4a03-bf46-f677b2586b44",
   "metadata": {},
   "source": [
    "As expected, the models performance decreases further when trained and tested on the goalie dataset compared to the forwards and defense. This is liekly due to the fact that the goalie dataset is severly limited in scale. "
   ]
  },
  {
   "cell_type": "code",
   "execution_count": 21,
   "id": "7a081b90-f673-4a43-99cc-acd631c8dcca",
   "metadata": {
    "tags": []
   },
   "outputs": [],
   "source": [
    "lr_pipe = Pipeline([\n",
    "    ('ss', StandardScaler()),\n",
    "    ('pc', PCA(\n",
    "        n_components=19,\n",
    "        random_state=42)),\n",
    "    ('lr', LinearRegression())])"
   ]
  },
  {
   "cell_type": "code",
   "execution_count": 22,
   "id": "727ad25c-041c-4f82-b109-508e14871480",
   "metadata": {
    "tags": []
   },
   "outputs": [
    {
     "data": {
      "text/html": [
       "<style>#sk-container-id-2 {color: black;background-color: white;}#sk-container-id-2 pre{padding: 0;}#sk-container-id-2 div.sk-toggleable {background-color: white;}#sk-container-id-2 label.sk-toggleable__label {cursor: pointer;display: block;width: 100%;margin-bottom: 0;padding: 0.3em;box-sizing: border-box;text-align: center;}#sk-container-id-2 label.sk-toggleable__label-arrow:before {content: \"▸\";float: left;margin-right: 0.25em;color: #696969;}#sk-container-id-2 label.sk-toggleable__label-arrow:hover:before {color: black;}#sk-container-id-2 div.sk-estimator:hover label.sk-toggleable__label-arrow:before {color: black;}#sk-container-id-2 div.sk-toggleable__content {max-height: 0;max-width: 0;overflow: hidden;text-align: left;background-color: #f0f8ff;}#sk-container-id-2 div.sk-toggleable__content pre {margin: 0.2em;color: black;border-radius: 0.25em;background-color: #f0f8ff;}#sk-container-id-2 input.sk-toggleable__control:checked~div.sk-toggleable__content {max-height: 200px;max-width: 100%;overflow: auto;}#sk-container-id-2 input.sk-toggleable__control:checked~label.sk-toggleable__label-arrow:before {content: \"▾\";}#sk-container-id-2 div.sk-estimator input.sk-toggleable__control:checked~label.sk-toggleable__label {background-color: #d4ebff;}#sk-container-id-2 div.sk-label input.sk-toggleable__control:checked~label.sk-toggleable__label {background-color: #d4ebff;}#sk-container-id-2 input.sk-hidden--visually {border: 0;clip: rect(1px 1px 1px 1px);clip: rect(1px, 1px, 1px, 1px);height: 1px;margin: -1px;overflow: hidden;padding: 0;position: absolute;width: 1px;}#sk-container-id-2 div.sk-estimator {font-family: monospace;background-color: #f0f8ff;border: 1px dotted black;border-radius: 0.25em;box-sizing: border-box;margin-bottom: 0.5em;}#sk-container-id-2 div.sk-estimator:hover {background-color: #d4ebff;}#sk-container-id-2 div.sk-parallel-item::after {content: \"\";width: 100%;border-bottom: 1px solid gray;flex-grow: 1;}#sk-container-id-2 div.sk-label:hover label.sk-toggleable__label {background-color: #d4ebff;}#sk-container-id-2 div.sk-serial::before {content: \"\";position: absolute;border-left: 1px solid gray;box-sizing: border-box;top: 0;bottom: 0;left: 50%;z-index: 0;}#sk-container-id-2 div.sk-serial {display: flex;flex-direction: column;align-items: center;background-color: white;padding-right: 0.2em;padding-left: 0.2em;position: relative;}#sk-container-id-2 div.sk-item {position: relative;z-index: 1;}#sk-container-id-2 div.sk-parallel {display: flex;align-items: stretch;justify-content: center;background-color: white;position: relative;}#sk-container-id-2 div.sk-item::before, #sk-container-id-2 div.sk-parallel-item::before {content: \"\";position: absolute;border-left: 1px solid gray;box-sizing: border-box;top: 0;bottom: 0;left: 50%;z-index: -1;}#sk-container-id-2 div.sk-parallel-item {display: flex;flex-direction: column;z-index: 1;position: relative;background-color: white;}#sk-container-id-2 div.sk-parallel-item:first-child::after {align-self: flex-end;width: 50%;}#sk-container-id-2 div.sk-parallel-item:last-child::after {align-self: flex-start;width: 50%;}#sk-container-id-2 div.sk-parallel-item:only-child::after {width: 0;}#sk-container-id-2 div.sk-dashed-wrapped {border: 1px dashed gray;margin: 0 0.4em 0.5em 0.4em;box-sizing: border-box;padding-bottom: 0.4em;background-color: white;}#sk-container-id-2 div.sk-label label {font-family: monospace;font-weight: bold;display: inline-block;line-height: 1.2em;}#sk-container-id-2 div.sk-label-container {text-align: center;}#sk-container-id-2 div.sk-container {/* jupyter's `normalize.less` sets `[hidden] { display: none; }` but bootstrap.min.css set `[hidden] { display: none !important; }` so we also need the `!important` here to be able to override the default hidden behavior on the sphinx rendered scikit-learn.org. See: https://github.com/scikit-learn/scikit-learn/issues/21755 */display: inline-block !important;position: relative;}#sk-container-id-2 div.sk-text-repr-fallback {display: none;}</style><div id=\"sk-container-id-2\" class=\"sk-top-container\"><div class=\"sk-text-repr-fallback\"><pre>Pipeline(steps=[(&#x27;ss&#x27;, StandardScaler()),\n",
       "                (&#x27;pc&#x27;, PCA(n_components=19, random_state=42)),\n",
       "                (&#x27;lr&#x27;, LinearRegression())])</pre><b>In a Jupyter environment, please rerun this cell to show the HTML representation or trust the notebook. <br />On GitHub, the HTML representation is unable to render, please try loading this page with nbviewer.org.</b></div><div class=\"sk-container\" hidden><div class=\"sk-item sk-dashed-wrapped\"><div class=\"sk-label-container\"><div class=\"sk-label sk-toggleable\"><input class=\"sk-toggleable__control sk-hidden--visually\" id=\"sk-estimator-id-6\" type=\"checkbox\" ><label for=\"sk-estimator-id-6\" class=\"sk-toggleable__label sk-toggleable__label-arrow\">Pipeline</label><div class=\"sk-toggleable__content\"><pre>Pipeline(steps=[(&#x27;ss&#x27;, StandardScaler()),\n",
       "                (&#x27;pc&#x27;, PCA(n_components=19, random_state=42)),\n",
       "                (&#x27;lr&#x27;, LinearRegression())])</pre></div></div></div><div class=\"sk-serial\"><div class=\"sk-item\"><div class=\"sk-estimator sk-toggleable\"><input class=\"sk-toggleable__control sk-hidden--visually\" id=\"sk-estimator-id-7\" type=\"checkbox\" ><label for=\"sk-estimator-id-7\" class=\"sk-toggleable__label sk-toggleable__label-arrow\">StandardScaler</label><div class=\"sk-toggleable__content\"><pre>StandardScaler()</pre></div></div></div><div class=\"sk-item\"><div class=\"sk-estimator sk-toggleable\"><input class=\"sk-toggleable__control sk-hidden--visually\" id=\"sk-estimator-id-8\" type=\"checkbox\" ><label for=\"sk-estimator-id-8\" class=\"sk-toggleable__label sk-toggleable__label-arrow\">PCA</label><div class=\"sk-toggleable__content\"><pre>PCA(n_components=19, random_state=42)</pre></div></div></div><div class=\"sk-item\"><div class=\"sk-estimator sk-toggleable\"><input class=\"sk-toggleable__control sk-hidden--visually\" id=\"sk-estimator-id-9\" type=\"checkbox\" ><label for=\"sk-estimator-id-9\" class=\"sk-toggleable__label sk-toggleable__label-arrow\">LinearRegression</label><div class=\"sk-toggleable__content\"><pre>LinearRegression()</pre></div></div></div></div></div></div></div>"
      ],
      "text/plain": [
       "Pipeline(steps=[('ss', StandardScaler()),\n",
       "                ('pc', PCA(n_components=19, random_state=42)),\n",
       "                ('lr', LinearRegression())])"
      ]
     },
     "execution_count": 22,
     "metadata": {},
     "output_type": "execute_result"
    }
   ],
   "source": [
    "lr_pipe.fit(X_train, y_train)"
   ]
  },
  {
   "cell_type": "code",
   "execution_count": 23,
   "id": "ca378ed5-4840-4e09-8024-d2876c8a9aad",
   "metadata": {
    "tags": []
   },
   "outputs": [],
   "source": [
    "preds = lr_pipe.predict(X_test)"
   ]
  },
  {
   "cell_type": "code",
   "execution_count": 24,
   "id": "8b50b85a-a697-41ed-a481-e28cf526843e",
   "metadata": {
    "tags": []
   },
   "outputs": [
    {
     "name": "stdout",
     "output_type": "stream",
     "text": [
      "Training score: 0.56\n",
      "Test score: 0.05\n",
      "Difference: 0.51\n",
      "RMSE: $1516992\n"
     ]
    }
   ],
   "source": [
    "print(f\"Training score: {round(lr_pipe.score(X_train, y_train), 2)}\")\n",
    "print(f\"Test score: {round(lr_pipe.score(X_test, y_test), 2)}\")\n",
    "print(f\"Difference: {round(lr_pipe.score(X_train, y_train)-(lr_pipe.score(X_test, y_test)), 2)}\")\n",
    "print(f\"RMSE: ${int(mean_squared_error(y_test, preds, squared=False))}\")"
   ]
  },
  {
   "cell_type": "code",
   "execution_count": 26,
   "id": "e419e2ca-2f33-4eb6-bda2-80d9f8d1a8ee",
   "metadata": {},
   "outputs": [],
   "source": [
    "with open('../models/goalies_model.pkl', 'wb') as file:\n",
    "    pickle.dump(lr_pipe, file)"
   ]
  },
  {
   "cell_type": "markdown",
   "id": "5467fcbc-59dc-46ac-a3fc-7129bc3c4ac8",
   "metadata": {},
   "source": [
    "---\n",
    "#### Notebook Links\n",
    "\n",
    "Part I - Project Intro & Data Cleaning\n",
    "- [`Part-1_setup-and-cleaning.ipynb`](../code/Part-1_setup-and-cleaning.ipynb)\n",
    "\n",
    "Part II - Exploratory Data Analysis (EDA)\n",
    "- [`Part-2_eda.ipynb`](../code/Part-2_eda.ipynb)\n",
    "\n",
    "Part III - Modeling\n",
    "- [`Part-3.1_modeling-forwards.ipynb`](../code/Part-3.1_modeling-forwards.ipynb)\n",
    "- [`Part-3.2_modeling-defense.ipynb`](../code/Part-3.2_modeling-defense.ipynb)\n",
    "\n",
    "Part IV - Conclusion, Recommendations, and Sources\n",
    "- [`Part-4_conclusion-and-recommendations.ipynb`](../code/Part-4_conclusion-and-recommendations.ipynb)"
   ]
  }
 ],
 "metadata": {
  "kernelspec": {
   "display_name": "Python 3 (ipykernel)",
   "language": "python",
   "name": "python3"
  },
  "language_info": {
   "codemirror_mode": {
    "name": "ipython",
    "version": 3
   },
   "file_extension": ".py",
   "mimetype": "text/x-python",
   "name": "python",
   "nbconvert_exporter": "python",
   "pygments_lexer": "ipython3",
   "version": "3.10.7"
  },
  "toc-showtags": false
 },
 "nbformat": 4,
 "nbformat_minor": 5
}
