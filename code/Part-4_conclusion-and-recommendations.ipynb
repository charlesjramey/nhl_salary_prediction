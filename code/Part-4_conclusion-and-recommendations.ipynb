{
 "cells": [
  {
   "cell_type": "markdown",
   "id": "c25a6f6a-543b-4815-8630-6a2b39f5aae4",
   "metadata": {
    "tags": []
   },
   "source": [
    "# Capstone Project: Predicting NHL Player Salary\n",
    "\n",
    "## Part IV - Conclusion and Recommendations\n",
    "\n",
    "Author: Charles Ramey\n",
    "\n",
    "Date: 05/15/2023\n",
    "\n",
    "---"
   ]
  },
  {
   "cell_type": "markdown",
   "id": "d72aca46-d1ae-4a8a-84cb-525ff32536c9",
   "metadata": {},
   "source": [
    "#### Notebook Links\n",
    "\n",
    "Part I - Project Intro & Data Cleaning\n",
    "- [`Part-1_setup-and-cleaning.ipynb`](../code/Part-1_setup-and-cleaning.ipynb)\n",
    "\n",
    "Part II - Exploratory Data Analysis (EDA)\n",
    "- [`Part-2_eda.ipynb`](../code/Part-2_eda.ipynb)\n",
    "\n",
    "Part III - Modeling\n",
    "- [`Part-3.1_modeling-forwards.ipynb`](../code/Part-3.1_modeling-forwards.ipynb)\n",
    "- [`Part-3.2_modeling-defense.ipynb`](../code/Part-3.2_modeling-defense.ipynb)\n",
    "- [`Part-3.3_modeling-goalies.ipynb`](../code/Part-3.3_modeling-goalies.ipynb)"
   ]
  },
  {
   "cell_type": "markdown",
   "id": "df383ea7-3fdb-4412-b8cc-d5ab67520351",
   "metadata": {},
   "source": [
    "### Contents\n",
    "\n",
    "- [Conclusion and Recommendations](#Conclusion-and-Recommendations)\n",
    "- [Sources](#Sources)"
   ]
  },
  {
   "cell_type": "markdown",
   "id": "7d040d18-020a-441a-8af1-e810b64d0bd4",
   "metadata": {},
   "source": [
    "## Conclusion and Recommendations"
   ]
  },
  {
   "cell_type": "markdown",
   "id": "eecab744-fde6-4418-85ec-354ec6cd53d7",
   "metadata": {},
   "source": [
    "This project was designed to create a simple tool for predicting NHL player salary, an inherently complex and often intangible process. I was able to create such a tool, however, the complexity of the challenge combined with the fact that there are realistically only a couple thousand player signings in the last decade creates a significant obstalce to achieving a highly accurate salary prediction tool. The pitfalls are amplified for goalies, for whom there is even less data. Even if steps are taken to minimize the amount of data points that are removed (for example, choosing to include 2-way contracts, or expanding the analysis further back than 2010), the number of signings is still limited. Another major pitfall of this project is that the target variable is inherently time-dependent (salaries generally increase with time), yet the salary of an indivual player cannot be predicted using a time-series analysis due to the inherent independence of a single player's stats and salary. \n",
    "\n",
    "There are many avenues to continue to explore with this data, and additional steps can be taken outside of the time contraints of the General Assembly capstone project to further improve model performance and the user experience with the web application. Some recommendations and planned next steps include:\n",
    "- Exploring the bimodality of the logarithmically transformed contract data.\n",
    "- Training on the combined forwards and defense datasets.\n",
    "    - These were originally trained separetly under the assumption that the different play style of forwards and defensemen would require unique models for each. Keeping this data combined allows the model to learn from more data and may improve model performance.\n",
    "- Adjusting the data to a per-game basis.\n",
    "    - For this iteration, data was left as is. A potential issue with this is that a player who played 60 games is likely to have relatively lower stats than if they played a full 82 games. The model does not account for partial seasons which may be a major hindrance to performance.\n",
    "- Testing a wider variety of model hyperparameters\n",
    "    - A more thorough grid search of hyperparameters for the various models may reveal more optimal parameters that improve model performance.\n",
    "    \n",
    "Overall, I learned a lot through this project, particularly about webscraping with Selenium, but also about experimental design. I believe there are multiple considerations I could have made early on in this project that could have improved the outcome, and I am looking forward to applying these lessons learned on my next project."
   ]
  },
  {
   "cell_type": "markdown",
   "id": "c246d967-b0d8-4f66-a20b-59298547ad09",
   "metadata": {
    "tags": []
   },
   "source": [
    "## Sources\n",
    "\n",
    "1. [https://www.sportingnews.com/us/nhl/news/nhl-salary-cap-rules-explained/x1wwiew656afzelhsx4tnecz](https://www.sportingnews.com/us/nhl/news/nhl-salary-cap-rules-explained/x1wwiew656afzelhsx4tnecz)\n",
    "2. [https://www.capfriendly.com/players/nazem-kadri](https://www.capfriendly.com/players/nazem-kadri)\n",
    "3. [https://www.nhl.com/player/nazem-kadri-8475172](https://www.nhl.com/player/nazem-kadri-8475172)\n",
    "4. [https://www.nhl.com/news/nazem-kadri-signs-seven-year-contract-with-flames/c-335317582](https://www.nhl.com/news/nazem-kadri-signs-seven-year-contract-with-flames/c-335317582)\n",
    "5. [https://www.capfriendly.com/](https://www.capfriendly.com/)\n",
    "6. [https://moneypuck.com/](https://moneypuck.com/)\n",
    "7. [https://www.hockey-reference.com/](https://www.hockey-reference.com/)\n",
    "8. [https://selenium-python.readthedocs.io/index.html](https://selenium-python.readthedocs.io/index.html)\n",
    "9. [https://pandas.pydata.org/docs/index.html](https://pandas.pydata.org/docs/index.html)\n",
    "10. [https://en.wikipedia.org/wiki/List_of_NHL_seasons](https://en.wikipedia.org/wiki/List_of_NHL_seasons)\n",
    "11. [https://chat.openai.com/](https://chat.openai.com/)\n",
    "12. [https://matplotlib.org/stable/api/index.html](https://matplotlib.org/stable/api/index.html)\n",
    "13. [https://scikit-learn.org/stable/modules/classes.html](https://scikit-learn.org/stable/modules/classes.html)"
   ]
  },
  {
   "cell_type": "code",
   "execution_count": null,
   "id": "f0f3049f-db26-4c40-a014-fe01cb298487",
   "metadata": {},
   "outputs": [],
   "source": []
  }
 ],
 "metadata": {
  "kernelspec": {
   "display_name": "Python 3 (ipykernel)",
   "language": "python",
   "name": "python3"
  },
  "language_info": {
   "codemirror_mode": {
    "name": "ipython",
    "version": 3
   },
   "file_extension": ".py",
   "mimetype": "text/x-python",
   "name": "python",
   "nbconvert_exporter": "python",
   "pygments_lexer": "ipython3",
   "version": "3.10.7"
  }
 },
 "nbformat": 4,
 "nbformat_minor": 5
}
