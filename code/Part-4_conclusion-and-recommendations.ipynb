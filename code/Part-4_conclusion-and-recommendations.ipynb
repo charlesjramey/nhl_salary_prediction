{
 "cells": [
  {
   "cell_type": "markdown",
   "id": "c25a6f6a-543b-4815-8630-6a2b39f5aae4",
   "metadata": {
    "tags": []
   },
   "source": [
    "# Capstone Project: Predicting NHL Player Salary\n",
    "\n",
    "## Part IV - Conclusion and Recommendations\n",
    "\n",
    "Author: Charles Ramey\n",
    "\n",
    "Date: 05/15/2023\n",
    "\n",
    "---"
   ]
  },
  {
   "cell_type": "markdown",
   "id": "5af256f5-c502-4407-9f87-7b3097dc2e11",
   "metadata": {},
   "source": [
    "#### Notebook Links\n",
    "\n",
    "Part I - Project Intro & Data Cleaning\n",
    "- [`Part-1_setup-and-cleaning.ipynb`](../code/Part-1_setup-and-cleaning.ipynb)\n",
    "\n",
    "Part II - Exploratory Data Analysis (EDA)\n",
    "- [`Part-2_eda.ipynb`](../code/Part-2_eda.ipynb)\n",
    "\n",
    "Part III - Modeling\n",
    "- [`Part-3_modeling.ipynb`](../code/Part-3_modeling.ipynb)"
   ]
  },
  {
   "cell_type": "markdown",
   "id": "df383ea7-3fdb-4412-b8cc-d5ab67520351",
   "metadata": {},
   "source": [
    "### Contents\n",
    "\n",
    "- [Conclusion and Recommendations](#Conclusion-and-Recommendations)\n",
    "- [Sources](#Sources)"
   ]
  },
  {
   "cell_type": "markdown",
   "id": "7d040d18-020a-441a-8af1-e810b64d0bd4",
   "metadata": {},
   "source": [
    "## Conclusion and Recommendations"
   ]
  },
  {
   "cell_type": "markdown",
   "id": "eecab744-fde6-4418-85ec-354ec6cd53d7",
   "metadata": {},
   "source": [
    "Lorem ipsum dolor sit amet, consectetur adipiscing elit, sed do eiusmod tempor incididunt ut labore et dolore magna aliqua. Dignissim sodales ut eu sem. Dignissim enim sit amet venenatis urna cursus eget nunc scelerisque. Tellus cras adipiscing enim eu turpis egestas. Sit amet porttitor eget dolor. Tempor nec feugiat nisl pretium fusce id velit ut tortor. Enim lobortis scelerisque fermentum dui faucibus in. Phasellus egestas tellus rutrum tellus pellentesque eu tincidunt tortor. Auctor augue mauris augue neque gravida in fermentum et. Viverra mauris in aliquam sem fringilla ut morbi tincidunt augue. Id diam maecenas ultricies mi eget mauris. Adipiscing bibendum est ultricies integer quis auctor elit sed.\n",
    "\n",
    "Imperdiet dui accumsan sit amet nulla facilisi morbi tempus iaculis. Eget mauris pharetra et ultrices neque ornare aenean euismod. Cras tincidunt lobortis feugiat vivamus at augue eget arcu dictum. Et malesuada fames ac turpis egestas maecenas pharetra convallis. Et tortor at risus viverra adipiscing at in tellus integer. Tortor condimentum lacinia quis vel eros. Tristique sollicitudin nibh sit amet. Consequat semper viverra nam libero justo laoreet. Elit sed vulputate mi sit amet mauris commodo quis imperdiet. Massa placerat duis ultricies lacus sed turpis.\n",
    "- Lorem ipsum dolor sit amet, consectetur adipiscing elit, sed do eiusmod tempor incididunt ut labore et dolore magna aliqua. Id interdum velit laoreet id donec ultrices tincidunt arcu. Ornare aenean euismod elementum nisi quis eleifend quam.\n",
    "- Aenean euismod elementum nisi quis eleifend quam. Elit ut aliquam purus sit. Nibh sed pulvinar proin gravida hendrerit. Tristique risus nec feugiat in fermentum.\n",
    "- Faucibus in ornare quam viverra orci sagittis eu volutpat. Bibendum enim facilisis gravida neque. Etiam erat velit scelerisque in dictum non consectetur."
   ]
  },
  {
   "cell_type": "markdown",
   "id": "c246d967-b0d8-4f66-a20b-59298547ad09",
   "metadata": {
    "tags": []
   },
   "source": [
    "## Sources\n",
    "\n",
    "1. [https://www.reddit.com/r/hockey/](https://www.reddit.com/r/hockey/)\n",
    "2. []()"
   ]
  }
 ],
 "metadata": {
  "kernelspec": {
   "display_name": "Python 3 (ipykernel)",
   "language": "python",
   "name": "python3"
  },
  "language_info": {
   "codemirror_mode": {
    "name": "ipython",
    "version": 3
   },
   "file_extension": ".py",
   "mimetype": "text/x-python",
   "name": "python",
   "nbconvert_exporter": "python",
   "pygments_lexer": "ipython3",
   "version": "3.10.7"
  }
 },
 "nbformat": 4,
 "nbformat_minor": 5
}
